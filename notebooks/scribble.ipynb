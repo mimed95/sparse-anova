{
 "cells": [
  {
   "cell_type": "code",
   "execution_count": 1,
   "source": [
    "import pysgpp as sg\n"
   ],
   "outputs": [],
   "metadata": {}
  },
  {
   "cell_type": "code",
   "execution_count": 2,
   "source": [
    "f = lambda x0, x1: 16.0 * (x0 - 1.0) * x0 * (x1 - 1.0) * x1"
   ],
   "outputs": [],
   "metadata": {}
  },
  {
   "cell_type": "code",
   "execution_count": 3,
   "source": [
    "dim = 2\n",
    "grid = sg.Grid.createLinearGrid(dim)\n",
    "gridStorage = grid.getStorage()\n",
    "print(\"dimensionality:         {}\".format(gridStorage.getDimension()))\n",
    "level = 3\n",
    "grid.getGenerator().regular(level)\n",
    "print(\"number of grid points:  {}\".format(gridStorage.getSize()))\n",
    "alpha = sg.DataVector(gridStorage.getSize())\n",
    "alpha.setAll(0.0)\n",
    "print(\"length of alpha vector: {}\".format(len(alpha)))\n"
   ],
   "outputs": [
    {
     "output_type": "stream",
     "name": "stdout",
     "text": [
      "dimensionality:         2\n",
      "number of grid points:  17\n",
      "length of alpha vector: 17\n"
     ]
    }
   ],
   "metadata": {}
  },
  {
   "cell_type": "code",
   "execution_count": 4,
   "source": [
    "for i in range(gridStorage.getSize()):\n",
    "    gp = gridStorage.getPoint(i)\n",
    "    alpha[i] = f(gp.getStandardCoordinate(0), gp.getStandardCoordinate(1))\n",
    "\n",
    "print(\"alpha before hierarchization: {}\".format(alpha))\n"
   ],
   "outputs": [
    {
     "output_type": "stream",
     "name": "stdout",
     "text": [
      "alpha before hierarchization: [1.00000000000000000000e+00, 7.50000000000000000000e-01, 7.50000000000000000000e-01, 4.37500000000000000000e-01, 9.37500000000000000000e-01, 9.37500000000000000000e-01, 4.37500000000000000000e-01, 7.50000000000000000000e-01, 7.50000000000000000000e-01, 4.37500000000000000000e-01, 9.37500000000000000000e-01, 9.37500000000000000000e-01, 4.37500000000000000000e-01, 5.62500000000000000000e-01, 5.62500000000000000000e-01, 5.62500000000000000000e-01, 5.62500000000000000000e-01]\n"
     ]
    }
   ],
   "metadata": {}
  },
  {
   "cell_type": "code",
   "execution_count": 5,
   "source": [
    "sg.createOperationHierarchisation(grid).doHierarchisation(alpha)\n",
    "print(\"alpha after hierarchization:  {}\".format(alpha))\n"
   ],
   "outputs": [
    {
     "output_type": "stream",
     "name": "stdout",
     "text": [
      "alpha after hierarchization:  [1.00000000000000000000e+00, 2.50000000000000000000e-01, 2.50000000000000000000e-01, 6.25000000000000000000e-02, 6.25000000000000000000e-02, 6.25000000000000000000e-02, 6.25000000000000000000e-02, 2.50000000000000000000e-01, 2.50000000000000000000e-01, 6.25000000000000000000e-02, 6.25000000000000000000e-02, 6.25000000000000000000e-02, 6.25000000000000000000e-02, 6.25000000000000000000e-02, 6.25000000000000000000e-02, 6.25000000000000000000e-02, 6.25000000000000000000e-02]\n"
     ]
    }
   ],
   "metadata": {}
  },
  {
   "cell_type": "code",
   "execution_count": 6,
   "source": [
    "p = sg.DataVector(dim)\n",
    "p[0] = 0.52\n",
    "p[1] = 0.73\n",
    "opEval = sg.createOperationEval(grid)\n",
    "print(\"u(0.52, 0.73) = {}\".format(opEval.eval(alpha, p)))\n"
   ],
   "outputs": [
    {
     "output_type": "stream",
     "name": "stdout",
     "text": [
      "u(0.52, 0.73) = 0.7696000000000001\n"
     ]
    }
   ],
   "metadata": {}
  },
  {
   "cell_type": "code",
   "execution_count": 9,
   "source": [
    "clen_curtis_grid = sg.Grid_createBsplineClenshawCurtisGrid(2, 2)"
   ],
   "outputs": [],
   "metadata": {}
  },
  {
   "cell_type": "code",
   "execution_count": null,
   "source": [
    "dir(clen_curtis_grid)"
   ],
   "outputs": [
    {
     "output_type": "execute_result",
     "data": {
      "text/plain": [
       "['__class__',\n",
       " '__delattr__',\n",
       " '__dict__',\n",
       " '__dir__',\n",
       " '__doc__',\n",
       " '__eq__',\n",
       " '__format__',\n",
       " '__ge__',\n",
       " '__getattribute__',\n",
       " '__gt__',\n",
       " '__hash__',\n",
       " '__init__',\n",
       " '__init_subclass__',\n",
       " '__le__',\n",
       " '__lt__',\n",
       " '__module__',\n",
       " '__ne__',\n",
       " '__new__',\n",
       " '__reduce__',\n",
       " '__reduce_ex__',\n",
       " '__repr__',\n",
       " '__setattr__',\n",
       " '__sizeof__',\n",
       " '__str__',\n",
       " '__subclasshook__',\n",
       " '__swig_destroy__',\n",
       " '__weakref__',\n",
       " 'clone',\n",
       " 'createBsplineBoundaryGrid',\n",
       " 'createBsplineClenshawCurtisGrid',\n",
       " 'createBsplineGrid',\n",
       " 'createFundamentalNakSplineBoundaryGrid',\n",
       " 'createFundamentalSplineBoundaryGrid',\n",
       " 'createFundamentalSplineGrid',\n",
       " 'createGrid',\n",
       " 'createGridOfEquivalentType',\n",
       " 'createLinearBoundaryGrid',\n",
       " 'createLinearClenshawCurtisBoundaryGrid',\n",
       " 'createLinearClenshawCurtisGrid',\n",
       " 'createLinearGrid',\n",
       " 'createLinearGridStencil',\n",
       " 'createLinearStretchedBoundaryGrid',\n",
       " 'createLinearStretchedGrid',\n",
       " 'createLinearTruncatedBoundaryGrid',\n",
       " 'createMemento',\n",
       " 'createModBsplineClenshawCurtisGrid',\n",
       " 'createModBsplineGrid',\n",
       " 'createModFundamentalSplineGrid',\n",
       " 'createModLinearClenshawCurtisGrid',\n",
       " 'createModLinearGrid',\n",
       " 'createModLinearGridStencil',\n",
       " 'createModNakBsplineGrid',\n",
       " 'createModPolyClenshawCurtisGrid',\n",
       " 'createModPolyGrid',\n",
       " 'createModWaveletGrid',\n",
       " 'createNakBsplineBoundaryCombigridGrid',\n",
       " 'createNakBsplineBoundaryGrid',\n",
       " 'createNaturalBsplineBoundaryGrid',\n",
       " 'createPeriodicGrid',\n",
       " 'createPolyBoundaryGrid',\n",
       " 'createPolyClenshawCurtisBoundaryGrid',\n",
       " 'createPolyClenshawCurtisGrid',\n",
       " 'createPolyGrid',\n",
       " 'createPrewaveletGrid',\n",
       " 'createSquareRootGrid',\n",
       " 'createWaveletBoundaryGrid',\n",
       " 'createWaveletGrid',\n",
       " 'createWeaklyFundamentalNakSplineBoundaryGrid',\n",
       " 'createWeaklyFundamentalSplineBoundaryGrid',\n",
       " 'getBasis',\n",
       " 'getBoundingBox',\n",
       " 'getDegree',\n",
       " 'getGenerator',\n",
       " 'getSize',\n",
       " 'getStorage',\n",
       " 'getStretching',\n",
       " 'getType',\n",
       " 'getTypeAsString',\n",
       " 'hash_hexdigest',\n",
       " 'insertPoint',\n",
       " 'refine',\n",
       " 'serialize',\n",
       " 'setMemento',\n",
       " 'stringToGridType',\n",
       " 'this',\n",
       " 'thisown',\n",
       " 'unserialize']"
      ]
     },
     "metadata": {},
     "execution_count": 12
    }
   ],
   "metadata": {}
  }
 ],
 "metadata": {
  "kernelspec": {
   "name": "python3",
   "display_name": "Python 3.9.6 64-bit ('sparse-anova': conda)"
  },
  "language_info": {
   "codemirror_mode": {
    "name": "ipython",
    "version": 3
   },
   "file_extension": ".py",
   "mimetype": "text/x-python",
   "name": "python",
   "nbconvert_exporter": "python",
   "pygments_lexer": "ipython3",
   "version": "3.9.6"
  },
  "orig_nbformat": 4,
  "interpreter": {
   "hash": "8db0a8f4fddf130ace3612aa3886e7502aaad80319330dcda6ce8365260c2523"
  }
 },
 "nbformat": 4,
 "nbformat_minor": 2
}