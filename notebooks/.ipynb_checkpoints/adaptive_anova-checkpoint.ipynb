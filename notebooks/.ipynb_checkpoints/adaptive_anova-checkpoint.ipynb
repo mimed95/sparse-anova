{
 "cells": [
  {
   "cell_type": "code",
   "execution_count": 1,
   "source": [
    "import sys\n",
    "import math\n",
    "from pysgpp import *\n",
    "import matplotlib.pyplot as plotter\n",
    "from mpl_toolkits.mplot3d import Axes3D"
   ],
   "outputs": [],
   "metadata": {}
  },
  {
   "cell_type": "code",
   "execution_count": 2,
   "source": [
    "def calculateError(dataSet,f,grid,alpha,error):\n",
    "    print(\"calculating error\")\n",
    "    #traverse dataSet\n",
    "    vec = DataVector(2)\n",
    "    opEval = createOperationEval(grid)\n",
    "    for i in range(dataSet.getNrows()):\n",
    "        dataSet.getRow(i,vec)\n",
    "        error[i] = pow(f(dataSet.get(i,0),dataSet.get(i,1))-opEval.eval(alpha,vec),2)\n",
    "    return error"
   ],
   "outputs": [],
   "metadata": {}
  },
  {
   "cell_type": "code",
   "execution_count": 3,
   "source": [
    "f = lambda x0, x1: math.sin(x0*10)+x1"
   ],
   "outputs": [],
   "metadata": {}
  },
  {
   "cell_type": "code",
   "execution_count": 4,
   "source": [
    "dim = 2\n",
    "grid = Grid.createLinearGrid(dim)\n",
    "HashGridStorage = grid.getStorage()\n",
    "print(\"dimensionality:                   {}\".format(dim))\n",
    "# create regular grid, level 3\n",
    "level = 3\n",
    "gridGen = grid.getGenerator()\n",
    "gridGen.regular(level)\n",
    "print(\"number of initial grid points:    {}\".format(HashGridStorage.getSize()))\n",
    "# create coefficient vectors\n",
    "alpha = DataVector(HashGridStorage.getSize())\n",
    "print(\"length of alpha vector:           {}\".format(alpha.getSize()))\n"
   ],
   "outputs": [
    {
     "output_type": "stream",
     "name": "stdout",
     "text": [
      "dimensionality:                   2\n",
      "number of initial grid points:    17\n",
      "length of alpha vector:           17\n"
     ]
    }
   ],
   "metadata": {}
  },
  {
   "cell_type": "code",
   "execution_count": 5,
   "source": [
    "rows = 100\n",
    "cols = 100\n",
    "dataSet = DataMatrix(rows*cols,dim)\n",
    "vals = DataVector(rows*cols)\n",
    "for i in range(rows):\n",
    "    for j in range(cols):\n",
    "        #xcoord\n",
    "        dataSet.set(i*cols+j,0,i*1.0/rows)\n",
    "        #ycoord\n",
    "        dataSet.set(i*cols+j,1,j*1.0/cols)\n",
    "        vals[i*cols+j] = f(i*1.0/rows,j*1.0/cols)"
   ],
   "outputs": [],
   "metadata": {}
  },
  {
   "cell_type": "code",
   "execution_count": null,
   "source": [
    "# create coefficient vectors\n",
    "alpha = DataVector(HashGridStorage.getSize())\n",
    "print(\"length of alpha vector:           {}\".format(alpha.getSize()))\n",
    "# now refine adaptively 20 times\n",
    "for refnum in range(20):\n",
    "    gp = HashGridStorage.getPoint(i)\n",
    "    alpha[i] = f(gp.getStandardCoordinate(0), gp.getStandardCoordinate(1))\n",
    "    # hierarchize\n",
    "    createOperationHierarchisation(grid).doHierarchisation(alpha)"
   ],
   "outputs": [],
   "metadata": {}
  },
  {
   "cell_type": "code",
   "execution_count": null,
   "source": [
    "errorVector = DataVector(dataSet.getNrows())\n",
    "calculateError(dataSet, f, grid, alpha, errorVector)\n",
    "\n"
   ],
   "outputs": [
    {
     "output_type": "error",
     "ename": "Error",
     "evalue": "Session cannot generate requests",
     "traceback": [
      "Error: Session cannot generate requests",
      "at w.executeCodeCell (/home/michael/.vscode/extensions/ms-toolsai.jupyter-2021.8.1054968649/out/client/extension.js:90:320068)",
      "at w.execute (/home/michael/.vscode/extensions/ms-toolsai.jupyter-2021.8.1054968649/out/client/extension.js:90:319389)",
      "at w.start (/home/michael/.vscode/extensions/ms-toolsai.jupyter-2021.8.1054968649/out/client/extension.js:90:315205)",
      "at runMicrotasks (<anonymous>)",
      "at processTicksAndRejections (internal/process/task_queues.js:93:5)",
      "at async t.CellExecutionQueue.executeQueuedCells (/home/michael/.vscode/extensions/ms-toolsai.jupyter-2021.8.1054968649/out/client/extension.js:90:329732)",
      "at async t.CellExecutionQueue.start (/home/michael/.vscode/extensions/ms-toolsai.jupyter-2021.8.1054968649/out/client/extension.js:90:329272)"
     ]
    }
   ],
   "metadata": {}
  }
 ],
 "metadata": {
  "orig_nbformat": 4,
  "language_info": {
   "name": "python",
   "version": "3.9.6",
   "mimetype": "text/x-python",
   "codemirror_mode": {
    "name": "ipython",
    "version": 3
   },
   "pygments_lexer": "ipython3",
   "nbconvert_exporter": "python",
   "file_extension": ".py"
  },
  "kernelspec": {
   "name": "python3",
   "display_name": "Python 3.9.6 64-bit ('venv')"
  },
  "interpreter": {
   "hash": "6b0874283ec7fcc4fdfe3b2299dbbf6403a3d5b70e701f9cca2a76bb7eded96f"
  }
 },
 "nbformat": 4,
 "nbformat_minor": 2
}