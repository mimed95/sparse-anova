{
 "cells": [
  {
   "cell_type": "code",
   "execution_count": 1,
   "source": [
    "import pysgpp\n",
    "import numpy as np"
   ],
   "outputs": [],
   "metadata": {}
  },
  {
   "cell_type": "code",
   "execution_count": 2,
   "source": [
    "f = lambda x0, x1: 16.0 * (x0 - 1.0) * x0 * (x1 - 1.0) * x1"
   ],
   "outputs": [],
   "metadata": {}
  },
  {
   "cell_type": "code",
   "execution_count": 3,
   "source": [
    "dim = 2\n",
    "grid = pysgpp.Grid.createLinearGrid(dim)\n",
    "gridStorage = grid.getStorage()\n",
    "print(\"dimensionality:         {}\".format(gridStorage.getDimension()))\n",
    "level = 3\n",
    "grid.getGenerator().regular(level)\n",
    "print(\"number of grid points:  {}\".format(gridStorage.getSize()))\n",
    "alpha = pysgpp.DataVector(gridStorage.getSize())\n",
    "alpha.setAll(0.0)\n",
    "print(\"length of alpha vector: {}\".format(len(alpha)))\n",
    "for i in range(gridStorage.getSize()):\n",
    "    gp = gridStorage.getPoint(i)\n",
    "    alpha[i] = f(gp.getStandardCoordinate(0), gp.getStandardCoordinate(1))\n",
    "print(\"alpha before hierarchization: {}\".format(alpha))\n",
    "\n",
    "pysgpp.createOperationHierarchisation(grid).doHierarchisation(alpha)\n",
    "print(\"alpha after hierarchization:  {}\".format(alpha))"
   ],
   "outputs": [
    {
     "output_type": "stream",
     "name": "stdout",
     "text": [
      "dimensionality:         2\n",
      "number of grid points:  17\n",
      "length of alpha vector: 17\n",
      "alpha before hierarchization: [1.00000000000000000000e+00, 7.50000000000000000000e-01, 7.50000000000000000000e-01, 4.37500000000000000000e-01, 9.37500000000000000000e-01, 9.37500000000000000000e-01, 4.37500000000000000000e-01, 7.50000000000000000000e-01, 7.50000000000000000000e-01, 4.37500000000000000000e-01, 9.37500000000000000000e-01, 9.37500000000000000000e-01, 4.37500000000000000000e-01, 5.62500000000000000000e-01, 5.62500000000000000000e-01, 5.62500000000000000000e-01, 5.62500000000000000000e-01]\n",
      "alpha after hierarchization:  [1.00000000000000000000e+00, 2.50000000000000000000e-01, 2.50000000000000000000e-01, 6.25000000000000000000e-02, 6.25000000000000000000e-02, 6.25000000000000000000e-02, 6.25000000000000000000e-02, 2.50000000000000000000e-01, 2.50000000000000000000e-01, 6.25000000000000000000e-02, 6.25000000000000000000e-02, 6.25000000000000000000e-02, 6.25000000000000000000e-02, 6.25000000000000000000e-02, 6.25000000000000000000e-02, 6.25000000000000000000e-02, 6.25000000000000000000e-02]\n"
     ]
    }
   ],
   "metadata": {}
  },
  {
   "cell_type": "code",
   "execution_count": 4,
   "source": [
    "p = pysgpp.DataVector(dim)\n",
    "p[0] = 0.52\n",
    "p[1] = 0.73\n",
    "opEval = pysgpp.createOperationEval(grid)\n",
    "print(\"u(0.52, 0.73) = {}\".format(opEval.eval(alpha, p)))"
   ],
   "outputs": [
    {
     "output_type": "stream",
     "name": "stdout",
     "text": [
      "u(0.52, 0.73) = 0.7696000000000001\n"
     ]
    }
   ],
   "metadata": {}
  },
  {
   "cell_type": "code",
   "execution_count": 17,
   "source": [
    "# call the numpy object\n",
    "#alpha.array()"
   ],
   "outputs": [
    {
     "output_type": "execute_result",
     "data": {
      "text/plain": [
       "['RMSNorm',\n",
       " '_DataVector__array',\n",
       " '__class__',\n",
       " '__delattr__',\n",
       " '__dict__',\n",
       " '__dir__',\n",
       " '__doc__',\n",
       " '__eq__',\n",
       " '__format__',\n",
       " '__ge__',\n",
       " '__getattribute__',\n",
       " '__getitem__',\n",
       " '__gt__',\n",
       " '__hash__',\n",
       " '__init__',\n",
       " '__init_subclass__',\n",
       " '__le__',\n",
       " '__len__',\n",
       " '__lt__',\n",
       " '__module__',\n",
       " '__ne__',\n",
       " '__new__',\n",
       " '__reduce__',\n",
       " '__reduce_ex__',\n",
       " '__repr__',\n",
       " '__setattr__',\n",
       " '__setitem__',\n",
       " '__sizeof__',\n",
       " '__str__',\n",
       " '__subclasshook__',\n",
       " '__swig_destroy__',\n",
       " '__weakref__',\n",
       " 'abs',\n",
       " 'add',\n",
       " 'append',\n",
       " 'array',\n",
       " 'assign',\n",
       " 'axpy',\n",
       " 'componentwise_div',\n",
       " 'componentwise_mult',\n",
       " 'copyFrom',\n",
       " 'dotProduct',\n",
       " 'fromFile',\n",
       " 'get',\n",
       " 'getNumberNonZero',\n",
       " 'getSize',\n",
       " 'l2Norm',\n",
       " 'max',\n",
       " 'maxNorm',\n",
       " 'min',\n",
       " 'minmax',\n",
       " 'mult',\n",
       " 'normalize',\n",
       " 'partitionClasses',\n",
       " 'resize',\n",
       " 'resizeZero',\n",
       " 'restructure',\n",
       " 'set',\n",
       " 'setAll',\n",
       " 'sqr',\n",
       " 'sqrt',\n",
       " 'sub',\n",
       " 'sum',\n",
       " 'this',\n",
       " 'thisown',\n",
       " 'toFile',\n",
       " 'toString']"
      ]
     },
     "metadata": {},
     "execution_count": 17
    }
   ],
   "metadata": {}
  }
 ],
 "metadata": {
  "orig_nbformat": 4,
  "language_info": {
   "name": "python",
   "version": "3.9.6",
   "mimetype": "text/x-python",
   "codemirror_mode": {
    "name": "ipython",
    "version": 3
   },
   "pygments_lexer": "ipython3",
   "nbconvert_exporter": "python",
   "file_extension": ".py"
  },
  "kernelspec": {
   "name": "python3",
   "display_name": "Python 3.9.6 64-bit ('venv')"
  },
  "interpreter": {
   "hash": "6b0874283ec7fcc4fdfe3b2299dbbf6403a3d5b70e701f9cca2a76bb7eded96f"
  }
 },
 "nbformat": 4,
 "nbformat_minor": 2
}