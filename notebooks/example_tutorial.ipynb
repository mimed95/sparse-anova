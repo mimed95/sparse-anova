{
 "cells": [
  {
   "cell_type": "code",
   "execution_count": 1,
   "source": [
    "import pysgpp\n",
    "import numpy as np"
   ],
   "outputs": [],
   "metadata": {}
  },
  {
   "cell_type": "code",
   "execution_count": 2,
   "source": [
    "f = lambda x0, x1: 16.0 * (x0 - 1.0) * x0 * (x1 - 1.0) * x1"
   ],
   "outputs": [],
   "metadata": {}
  },
  {
   "cell_type": "code",
   "execution_count": 3,
   "source": [
    "dim = 2\n",
    "grid = pysgpp.Grid.createLinearGrid(dim)"
   ],
   "outputs": [],
   "metadata": {}
  },
  {
   "cell_type": "code",
   "execution_count": 4,
   "source": [
    "gridStorage = grid.getStorage()\n",
    "print(\"dimensionality:         {}\".format(gridStorage.getDimension()))"
   ],
   "outputs": [
    {
     "output_type": "stream",
     "name": "stdout",
     "text": [
      "dimensionality:         2\n"
     ]
    }
   ],
   "metadata": {}
  },
  {
   "cell_type": "code",
   "execution_count": 5,
   "source": [
    "level = 3\n",
    "grid.getGenerator().regular(level)\n",
    "print(\"number of grid points:  {}\".format(gridStorage.getSize()))"
   ],
   "outputs": [
    {
     "output_type": "stream",
     "name": "stdout",
     "text": [
      "number of grid points:  17\n"
     ]
    }
   ],
   "metadata": {}
  },
  {
   "cell_type": "code",
   "execution_count": 6,
   "source": [
    "alpha = pysgpp.DataVector(gridStorage.getSize())\n",
    "alpha.setAll(0.0)\n",
    "print(\"length of alpha vector: {}\".format(len(alpha)))"
   ],
   "outputs": [
    {
     "output_type": "stream",
     "name": "stdout",
     "text": [
      "length of alpha vector: 17\n"
     ]
    }
   ],
   "metadata": {}
  },
  {
   "cell_type": "code",
   "execution_count": 34,
   "source": [
    "for i in range(gridStorage.getSize()):\n",
    "    gp = gridStorage.getPoint(i)\n",
    "    alpha[i] = f(gp.getStandardCoordinate(0), gp.getStandardCoordinate(1))\n",
    "print(\"alpha before hierarchization: {}\".format(alpha))\n"
   ],
   "outputs": [
    {
     "output_type": "stream",
     "name": "stdout",
     "text": [
      "alpha before hierarchization: [1.00000000000000000000e+00, 7.50000000000000000000e-01, 7.50000000000000000000e-01, 4.37500000000000000000e-01, 9.37500000000000000000e-01, 9.37500000000000000000e-01, 4.37500000000000000000e-01, 7.50000000000000000000e-01, 7.50000000000000000000e-01, 4.37500000000000000000e-01, 9.37500000000000000000e-01, 9.37500000000000000000e-01, 4.37500000000000000000e-01, 5.62500000000000000000e-01, 5.62500000000000000000e-01, 5.62500000000000000000e-01, 5.62500000000000000000e-01]\n"
     ]
    }
   ],
   "metadata": {}
  },
  {
   "cell_type": "code",
   "execution_count": 8,
   "source": [
    "pysgpp.createOperationHierarchisation(grid).doHierarchisation(alpha)\n",
    "print(\"alpha after hierarchization:  {}\".format(alpha))"
   ],
   "outputs": [
    {
     "output_type": "stream",
     "name": "stdout",
     "text": [
      "alpha after hierarchization:  [1.00000000000000000000e+00, 2.50000000000000000000e-01, 2.50000000000000000000e-01, 6.25000000000000000000e-02, 6.25000000000000000000e-02, 6.25000000000000000000e-02, 6.25000000000000000000e-02, 2.50000000000000000000e-01, 2.50000000000000000000e-01, 6.25000000000000000000e-02, 6.25000000000000000000e-02, 6.25000000000000000000e-02, 6.25000000000000000000e-02, 6.25000000000000000000e-02, 6.25000000000000000000e-02, 6.25000000000000000000e-02, 6.25000000000000000000e-02]\n"
     ]
    }
   ],
   "metadata": {}
  },
  {
   "cell_type": "code",
   "execution_count": 35,
   "source": [
    "p = pysgpp.DataVector(dim)\n",
    "p[0] = 0.52\n",
    "p[1] = 0.73\n",
    "opEval = pysgpp.createOperationEval(grid)\n",
    "print(\"u(0.52, 0.73) = {}\".format(opEval.eval(alpha, p)))"
   ],
   "outputs": [
    {
     "output_type": "stream",
     "name": "stdout",
     "text": [
      "u(0.52, 0.73) = 1.4796000000000002\n"
     ]
    }
   ],
   "metadata": {}
  },
  {
   "cell_type": "code",
   "execution_count": null,
   "source": [],
   "outputs": [],
   "metadata": {}
  }
 ],
 "metadata": {
  "orig_nbformat": 4,
  "language_info": {
   "name": "python",
   "version": "3.9.6",
   "mimetype": "text/x-python",
   "codemirror_mode": {
    "name": "ipython",
    "version": 3
   },
   "pygments_lexer": "ipython3",
   "nbconvert_exporter": "python",
   "file_extension": ".py"
  },
  "kernelspec": {
   "name": "python3",
   "display_name": "Python 3.9.6 64-bit ('venv')"
  },
  "interpreter": {
   "hash": "6b0874283ec7fcc4fdfe3b2299dbbf6403a3d5b70e701f9cca2a76bb7eded96f"
  }
 },
 "nbformat": 4,
 "nbformat_minor": 2
}