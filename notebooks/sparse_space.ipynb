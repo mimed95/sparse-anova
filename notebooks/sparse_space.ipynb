{
 "cells": [
  {
   "cell_type": "code",
   "execution_count": 1,
   "metadata": {},
   "outputs": [],
   "source": [
    "%matplotlib inline\n",
    "import sparseSpACE\n",
    "\n",
    "from sparseSpACE.Function import *\n",
    "from sparseSpACE.StandardCombi import *\n",
    "from sparseSpACE.Grid import *\n",
    "import numpy as np\n"
   ]
  },
  {
   "cell_type": "code",
   "execution_count": null,
   "metadata": {},
   "outputs": [],
   "source": [
    "dim = 2\n",
    "coeffs = np.ones(dim)\n",
    "a = np.zeros(dim)\n",
    "b = np.ones(dim)\n",
    "grid = TrapezoidalGrid(a=a, b=b)\n",
    "f = GenzCornerPeak(coeffs=coeffs)\n",
    "# NEW! define operation which shall be performed in the combination technique\n",
    "from sparseSpACE.GridOperation import *\n",
    "operation = Integration(f=f, grid=grid, dim=dim, reference_solution = f.getAnalyticSolutionIntegral(a,b))\n",
    "combiObject = StandardCombi(a, b, operation=operation)\n",
    "minimum_level = 1\n",
    "maximum_level = 4\n",
    "combiObject.perform_operation(minimum_level, maximum_level, f)\n",
    "combiObject.print_resulting_combi_scheme()\n",
    "combiObject.print_resulting_sparsegrid()"
   ]
  },
  {
   "cell_type": "code",
   "execution_count": null,
   "metadata": {},
   "outputs": [],
   "source": [
    "grid = ClenshawCurtisGrid(a=a, b=b)\n",
    "f = GenzCornerPeak(coeffs=coeffs)\n",
    "# NEW! define operation which shall be performed in the combination technique\n",
    "from sparseSpACE.GridOperation import *\n",
    "operation = Integration(f=f, grid=grid, dim=dim, reference_solution = f.getAnalyticSolutionIntegral(a,b))\n",
    "combiObject = StandardCombi(a, b, operation=operation)\n",
    "minimum_level = 1\n",
    "maximum_level = 4\n",
    "combiObject.perform_operation(minimum_level, maximum_level, f)\n",
    "combiObject.print_resulting_combi_scheme()\n",
    "combiObject.print_resulting_sparsegrid()"
   ]
  }
 ],
 "metadata": {
  "interpreter": {
   "hash": "861bdae1d92361f5dca4c96558138137482200a47974de5944b939d98a81f00d"
  },
  "kernelspec": {
   "display_name": "Python 3.8.10 64-bit ('venv': venv)",
   "language": "python",
   "name": "python3"
  },
  "language_info": {
   "codemirror_mode": {
    "name": "ipython",
    "version": 3
   },
   "file_extension": ".py",
   "mimetype": "text/x-python",
   "name": "python",
   "nbconvert_exporter": "python",
   "pygments_lexer": "ipython3",
   "version": "3.8.10"
  },
  "orig_nbformat": 4
 },
 "nbformat": 4,
 "nbformat_minor": 2
}
