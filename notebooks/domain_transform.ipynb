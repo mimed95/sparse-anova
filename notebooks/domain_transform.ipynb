{
 "cells": [
  {
   "cell_type": "code",
   "execution_count": 1,
   "metadata": {},
   "outputs": [],
   "source": [
    "import Tasmanian as ts\n",
    "import numpy as np\n",
    "import sys\n",
    "sys.path.append(\"..\")\n",
    "from src.py.option import AsianOption\n"
   ]
  },
  {
   "cell_type": "code",
   "execution_count": 2,
   "metadata": {},
   "outputs": [],
   "source": [
    "def make_grid(dim, exactness, lb, rb, rule):\n",
    "    \"\"\"Creates a sparse grid according to given rules and boundaries.\n",
    "\n",
    "    Args:\n",
    "        dim (int): Input Dimension.\n",
    "        exactness (int): Exactness of the integration.\n",
    "        lb (array-like): Left boundary. Shape (dim) is recommended.\n",
    "        rb (array-like): Right boundary. Shape (dim) is recommended.\n",
    "        rule (str):  One of the local polynomial rules in TASMANIAN docs.\n",
    "            Defaults to \"localp\".\n",
    "\n",
    "    Returns:\n",
    "        TasmanianSparseGrid: SparseGrid object.\n",
    "    \"\"\"\n",
    "    grid = ts.makeGlobalGrid(\n",
    "        dim, 1, exactness, \"level\", rule\n",
    "    )\n",
    "    grid.setDomainTransform(np.vstack([lb, rb]).T)\n",
    "    return grid\n",
    "\n",
    "aop = AsianOption(d=2)\n",
    "# iNumInputs = 4\n",
    "# iNumOutputs = 1\n",
    "# grid = ts.SparseGrid()\n",
    "# grid.makeLocalPolynomialGrid(iNumInputs, iNumOutputs, 4, iOrder=1, sRule=\"localp\")\n"
   ]
  },
  {
   "cell_type": "code",
   "execution_count": 3,
   "metadata": {},
   "outputs": [],
   "source": [
    "s_0_l=80.0\n",
    "s_0_r=120.0\n",
    "sigma_l=0.1\n",
    "sigma_r=0.2\n",
    "mu_l=0.02\n",
    "mu_r=0.05\n",
    "T_l=0.9\n",
    "T_r=1.0\n",
    "\n",
    "def phi(x,sigma,mu,T, axis=1):\n",
    "    payoffcoarse=np.exp(-mu * T)* np.maximum(x - 100, 0.)\n",
    "    return payoffcoarse\n",
    "\n",
    "transform = np.array(\n",
    "    [[s_0_l, s_0_r],\n",
    "    [sigma_l, sigma_r],\n",
    "    [mu_l, mu_r],\n",
    "    [T_l, T_r]\n",
    "    ]\n",
    ")"
   ]
  },
  {
   "cell_type": "code",
   "execution_count": 83,
   "metadata": {},
   "outputs": [],
   "source": [
    "dim, exactness = 2, 2\n",
    "lb, rb =  s_0_l * np.ones(dim), s_0_r * np.ones(dim)\n",
    "grid = make_grid(dim, exactness, lb, rb, \"gauss-patterson\")\n",
    "points = grid.getPoints()\n"
   ]
  },
  {
   "cell_type": "code",
   "execution_count": 84,
   "metadata": {},
   "outputs": [
    {
     "data": {
      "image/png": "[encoded data removed]",
      "text/plain": [
       "<Figure size 432x288 with 1 Axes>"
      ]
     },
     "metadata": {
      "needs_background": "light"
     },
     "output_type": "display_data"
    }
   ],
   "source": [
    "import matplotlib.pyplot as plt\n",
    "\n",
    "plt.scatter(points[:, 0], points[:, 1])\n",
    "plt.show()\n"
   ]
  },
  {
   "cell_type": "code",
   "execution_count": 90,
   "metadata": {},
   "outputs": [
    {
     "data": {
      "image/png": "[encoded data removed]",
      "text/plain": [
       "<Figure size 432x288 with 1 Axes>"
      ]
     },
     "metadata": {
      "needs_background": "light"
     },
     "output_type": "display_data"
    }
   ],
   "source": [
    "k1, k2 = 1, 7\n",
    "plt.scatter(points[k1:k2, 0], points[k1:k2, 1])\n",
    "plt.show()"
   ]
  },
  {
   "cell_type": "markdown",
   "metadata": {},
   "source": [
    "## Slice Arrays for smoothing"
   ]
  },
  {
   "cell_type": "code",
   "execution_count": 115,
   "metadata": {},
   "outputs": [],
   "source": [
    "ar = points[points[:, -1].argsort()]\n",
    "arr = ar[:, -1]\n",
    "n = arr.strides[0]\n",
    "maxidx = np.lib.stride_tricks.as_strided(arr, \\\n",
    "    shape=(ar.size-3+1,3), strides=(n,n)).argmax(1)"
   ]
  },
  {
   "cell_type": "code",
   "execution_count": 128,
   "metadata": {},
   "outputs": [],
   "source": [
    "def cumargmax(a):\n",
    "    m = np.maximum.accumulate(a)\n",
    "    x = np.repeat(np.arange(a.shape[0])[:, None], a.shape[1], axis=1)\n",
    "    x[1:] *= m[:-1] < m[1:]\n",
    "    np.maximum.accumulate(x, axis=0, out=x)\n",
    "    return x"
   ]
  },
  {
   "cell_type": "code",
   "execution_count": 131,
   "metadata": {},
   "outputs": [
    {
     "data": {
      "text/plain": [
       "(array([[ 0,  0],\n",
       "        [ 0,  1],\n",
       "        [ 0,  1],\n",
       "        [ 3,  1],\n",
       "        [ 3,  4],\n",
       "        [ 3,  5],\n",
       "        [ 3,  5],\n",
       "        [ 3,  5],\n",
       "        [ 3,  5],\n",
       "        [ 3,  5],\n",
       "        [ 3,  5],\n",
       "        [11,  5],\n",
       "        [11, 12],\n",
       "        [11, 13],\n",
       "        [11, 13],\n",
       "        [11, 13],\n",
       "        [11, 16]]),\n",
       " array([[100.        ,  80.79017463],\n",
       "        [ 84.50806662,  84.50806662],\n",
       "        [100.        ,  84.50806662],\n",
       "        [115.49193338,  84.50806662],\n",
       "        [100.        ,  91.31512501],\n",
       "        [ 91.31512501, 100.        ],\n",
       "        [ 80.79017463, 100.        ],\n",
       "        [115.49193338, 100.        ],\n",
       "        [100.        , 100.        ],\n",
       "        [ 84.50806662, 100.        ],\n",
       "        [108.68487499, 100.        ],\n",
       "        [119.20982537, 100.        ],\n",
       "        [100.        , 108.68487499],\n",
       "        [ 84.50806662, 115.49193338],\n",
       "        [115.49193338, 115.49193338],\n",
       "        [100.        , 115.49193338],\n",
       "        [100.        , 119.20982537]]))"
      ]
     },
     "execution_count": 131,
     "metadata": {},
     "output_type": "execute_result"
    }
   ],
   "source": [
    "cumargmax(ar)"
   ]
  }
 ],
 "metadata": {
  "kernelspec": {
   "display_name": "Python 3.8.10 ('venv': venv)",
   "language": "python",
   "name": "python3"
  },
  "language_info": {
   "codemirror_mode": {
    "name": "ipython",
    "version": 3
   },
   "file_extension": ".py",
   "mimetype": "text/x-python",
   "name": "python",
   "nbconvert_exporter": "python",
   "pygments_lexer": "ipython3",
   "version": "3.8.10"
  },
  "orig_nbformat": 4,
  "vscode": {
   "interpreter": {
    "hash": "861bdae1d92361f5dca4c96558138137482200a47974de5944b939d98a81f00d"
   }
  }
 },
 "nbformat": 4,
 "nbformat_minor": 2
}
