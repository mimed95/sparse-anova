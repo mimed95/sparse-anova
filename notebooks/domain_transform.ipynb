{
 "cells": [
  {
   "cell_type": "code",
   "execution_count": 1,
   "metadata": {},
   "outputs": [],
   "source": [
    "import Tasmanian as ts\n",
    "import numpy as np\n",
    "import scipy.optimize as opt\n",
    "import sys\n",
    "sys.path.append(\"..\")\n",
    "from src.py.option import AsianOption\n"
   ]
  },
  {
   "cell_type": "code",
   "execution_count": 2,
   "metadata": {},
   "outputs": [],
   "source": [
    "def make_grid(dim, exactness, lb, rb, rule):\n",
    "    \"\"\"Creates a sparse grid according to given rules and boundaries.\n",
    "\n",
    "    Args:\n",
    "        dim (int): Input Dimension.\n",
    "        exactness (int): Exactness of the integration.\n",
    "        lb (array-like): Left boundary. Shape (dim) is recommended.\n",
    "        rb (array-like): Right boundary. Shape (dim) is recommended.\n",
    "        rule (str):  One of the local polynomial rules in TASMANIAN docs.\n",
    "            Defaults to \"localp\".\n",
    "\n",
    "    Returns:\n",
    "        TasmanianSparseGrid: SparseGrid object.\n",
    "    \"\"\"\n",
    "    grid = ts.makeGlobalGrid(\n",
    "        dim, 1, exactness, \"level\", rule\n",
    "    )\n",
    "    grid.setDomainTransform(np.vstack([lb, rb]).T)\n",
    "    return grid\n",
    "\n",
    "aop = AsianOption(d=2)\n",
    "# iNumInputs = 4\n",
    "# iNumOutputs = 1\n",
    "# grid = ts.SparseGrid()\n",
    "# grid.makeLocalPolynomialGrid(iNumInputs, iNumOutputs, 4, iOrder=1, sRule=\"localp\")\n"
   ]
  },
  {
   "cell_type": "code",
   "execution_count": 3,
   "metadata": {},
   "outputs": [],
   "source": [
    "s_0_l=80.0\n",
    "s_0_r=120.0\n",
    "sigma_l=0.1\n",
    "sigma_r=0.2\n",
    "mu_l=0.02\n",
    "mu_r=0.05\n",
    "T_l=0.9\n",
    "T_r=1.0\n",
    "\n",
    "transform = np.array(\n",
    "    [[s_0_l, s_0_r],\n",
    "    [sigma_l, sigma_r],\n",
    "    [mu_l, mu_r],\n",
    "    [T_l, T_r]\n",
    "    ]\n",
    ")"
   ]
  },
  {
   "cell_type": "code",
   "execution_count": 52,
   "metadata": {},
   "outputs": [],
   "source": [
    "dim, level = 2, 5\n",
    "lb, rb =  np.zeros(dim), np.ones(dim)\n",
    "grid = make_grid(dim, level, lb, rb, \"gauss-patterson\")\n",
    "points = grid.getPoints()\n"
   ]
  },
  {
   "cell_type": "code",
   "execution_count": 53,
   "metadata": {},
   "outputs": [
    {
     "data": {
      "image/png": "[encoded data removed]",
      "text/plain": [
       "<Figure size 432x288 with 1 Axes>"
      ]
     },
     "metadata": {
      "needs_background": "light"
     },
     "output_type": "display_data"
    }
   ],
   "source": [
    "import matplotlib.pyplot as plt\n",
    "\n",
    "plt.scatter(points[:, 0], points[:, 1])\n",
    "plt.show()\n",
    "# 3d plot\n",
    "# fig = plt.figure(figsize=(10,10))\n",
    "# ax = fig.add_subplot(projection='3d')\n",
    "# ax.scatter(points[:, 0], points[:, 1], points[:, 2])\n",
    "# plt.show()"
   ]
  },
  {
   "cell_type": "markdown",
   "metadata": {},
   "source": [
    "## Slice Arrays for smoothing"
   ]
  },
  {
   "cell_type": "code",
   "execution_count": 54,
   "metadata": {},
   "outputs": [],
   "source": [
    "# ar = points[points[:, :-1].argsort(axis=0)[:, 0]]\n",
    "hyperplanes, indices = np.unique(points[:, :-1], axis=0, return_index=True)\n",
    "\n",
    "grid_slices = np.split(points, sorted(indices)[1:], axis=0)\n"
   ]
  },
  {
   "cell_type": "code",
   "execution_count": 55,
   "metadata": {},
   "outputs": [],
   "source": [
    "# def cumargmax(a):\n",
    "#     m = np.maximum.accumulate(a)\n",
    "#     x = np.repeat(np.arange(a.shape[0])[:, None], a.shape[1], axis=1)\n",
    "#     x[1:] *= m[:-1] < m[1:]\n",
    "#     np.maximum.accumulate(x, axis=0, out=x)\n",
    "#     return x[:, -1]\n",
    "\n",
    "# partitions = np.unique(cumargmax(ar))\n",
    "# grid_slices = np.split(ar, partitions[1:], axis=0)"
   ]
  },
  {
   "cell_type": "code",
   "execution_count": 56,
   "metadata": {},
   "outputs": [
    {
     "data": {
      "text/plain": [
       "array([[6.35559398e-05],\n",
       "       [4.50937516e-04],\n",
       "       [1.39687031e-03],\n",
       "       [3.08401839e-03],\n",
       "       [5.65762123e-03],\n",
       "       [9.23442522e-03],\n",
       "       [1.39085626e-02],\n",
       "       [1.97543656e-02],\n",
       "       [2.68285708e-02],\n",
       "       [3.51725713e-02],\n",
       "       [4.48144215e-02],\n",
       "       [5.57703836e-02],\n",
       "       [6.80460309e-02],\n",
       "       [8.16370309e-02],\n",
       "       [9.65297340e-02],\n",
       "       [1.12701665e-01],\n",
       "       [1.30121978e-01],\n",
       "       [1.48751897e-01],\n",
       "       [1.68545170e-01],\n",
       "       [1.89448527e-01],\n",
       "       [2.11402145e-01],\n",
       "       [2.34340128e-01],\n",
       "       [2.58190987e-01],\n",
       "       [2.82878125e-01],\n",
       "       [3.08320338e-01],\n",
       "       [3.34432303e-01],\n",
       "       [3.61125089e-01],\n",
       "       [3.88306657e-01],\n",
       "       [4.15882374e-01],\n",
       "       [4.43755528e-01],\n",
       "       [4.71827843e-01],\n",
       "       [5.00000000e-01],\n",
       "       [5.28172157e-01],\n",
       "       [5.56244472e-01],\n",
       "       [5.84117626e-01],\n",
       "       [6.11693343e-01],\n",
       "       [6.38874911e-01],\n",
       "       [6.65567697e-01],\n",
       "       [6.91679662e-01],\n",
       "       [7.17121875e-01],\n",
       "       [7.41809013e-01],\n",
       "       [7.65659872e-01],\n",
       "       [7.88597855e-01],\n",
       "       [8.10551473e-01],\n",
       "       [8.31454830e-01],\n",
       "       [8.51248103e-01],\n",
       "       [8.69878022e-01],\n",
       "       [8.87298335e-01],\n",
       "       [9.03470266e-01],\n",
       "       [9.18362969e-01],\n",
       "       [9.31953969e-01],\n",
       "       [9.44229616e-01],\n",
       "       [9.55185578e-01],\n",
       "       [9.64827429e-01],\n",
       "       [9.73171429e-01],\n",
       "       [9.80245634e-01],\n",
       "       [9.86091437e-01],\n",
       "       [9.90765575e-01],\n",
       "       [9.94342379e-01],\n",
       "       [9.96915982e-01],\n",
       "       [9.98603130e-01],\n",
       "       [9.99549062e-01],\n",
       "       [9.99936444e-01]])"
      ]
     },
     "execution_count": 56,
     "metadata": {},
     "output_type": "execute_result"
    }
   ],
   "source": [
    "# fig, axes = plt.subplots(nrows=5, ncols=4,sharex=True, sharey=True, figsize=(10,10))\n",
    "# axes = np.ravel(axes)\n",
    "# for i in range(len(grid_slices)):\n",
    "#     x, y  = grid_slices[i][:, 0], grid_slices[i][:, 1]\n",
    "#     axes[i].scatter(x,y)\n",
    "# plt.show()\n",
    "hyperplanes"
   ]
  },
  {
   "cell_type": "code",
   "execution_count": 57,
   "metadata": {},
   "outputs": [],
   "source": [
    "# Nullstellen findung vektorisieren!!!\n",
    "\n",
    "def payout_coordinate_split(hyperplane, line):\n",
    "    return aop.payout_func_opt(np.hstack([hyperplane, line]))\n",
    "\n",
    "def fprime(x):\n",
    "    return aop.payout_func_opt_der(x, coordinate=-1)\n",
    "\n",
    "# roots = list()\n",
    "# for plane in hyperplanes:\n",
    "#     foo = lambda x: aop.payout_func_opt(np.hstack([plane, x]))\n",
    "#     foo_fprime = lambda x: fprime(np.hstack([plane, x]))\n",
    "#     sol = opt.root_scalar(foo, x0=0.999, fprime=foo_fprime, method='newton')\n",
    "#     roots.append(sol.root)\n",
    "\n",
    "def find_hyperplane_root(plane, method, x0=0.999):\n",
    "    foo = lambda x: aop.payout_func_opt(np.hstack([plane, x]))\n",
    "    foo_fprime = lambda x: fprime(np.hstack([plane, x]))\n",
    "    if method == \"bisect\":\n",
    "        sol = opt.root_scalar(foo, x0=0.999, bracket=[1, 0], method=method)\n",
    "    if method == \"newton\":\n",
    "        sol = opt.root_scalar(foo, x0=0.999, fprime=foo_fprime, method=method)\n",
    "    return sol.root\n",
    "\n",
    "ar_roots = np.apply_along_axis(find_hyperplane_root, axis=1, arr=hyperplanes, method=\"newton\")\n"
   ]
  },
  {
   "cell_type": "code",
   "execution_count": 58,
   "metadata": {},
   "outputs": [
    {
     "data": {
      "text/plain": [
       "array([0.999     , 0.999     , 0.999     , 0.999     , 0.999     ,\n",
       "       0.999     , 0.999     , 0.999     , 0.9986966 , 0.99720437,\n",
       "       0.9945547 , 0.99020433, 0.9835162 , 0.97379558, 0.96033912,\n",
       "       0.94249191, 0.91970668, 0.89159862, 0.85798998, 0.8189399 ,\n",
       "       0.7747564 , 0.72598939, 0.6734057 , 0.61794848, 0.5606849 ,\n",
       "       0.50274687, 0.44525988, 0.38913103, 0.33567689, 0.28572983,\n",
       "       0.23641344, 0.17659689, 0.1191615 , 0.06516597, 0.01578671,\n",
       "              nan,        nan,        nan,        nan,        nan,\n",
       "              nan,        nan,        nan,        nan,        nan,\n",
       "              nan,        nan,        nan,        nan,        nan,\n",
       "              nan,        nan,        nan,        nan,        nan,\n",
       "              nan,        nan,        nan,        nan,        nan,\n",
       "              nan,        nan,        nan])"
      ]
     },
     "execution_count": 58,
     "metadata": {},
     "output_type": "execute_result"
    }
   ],
   "source": [
    "ar_roots"
   ]
  },
  {
   "cell_type": "code",
   "execution_count": 59,
   "metadata": {},
   "outputs": [],
   "source": [
    "transformed_slices = list()\n",
    "for slice, zero in zip(grid_slices, ar_roots):\n",
    "    if np.isnan(zero) or zero == .999:\n",
    "        transformed_slices.append(slice)\n",
    "    else:\n",
    "        transformed_slices.append(slice*(1-zero)+zero)"
   ]
  },
  {
   "cell_type": "code",
   "execution_count": 60,
   "metadata": {},
   "outputs": [
    {
     "data": {
      "image/png": "[encoded data removed]",
      "text/plain": [
       "<Figure size 432x288 with 1 Axes>"
      ]
     },
     "metadata": {
      "needs_background": "light"
     },
     "output_type": "display_data"
    }
   ],
   "source": [
    "transformed_points = np.concatenate(transformed_slices)\n",
    "\n",
    "\n",
    "plt.scatter(transformed_points[:, 0], transformed_points[:, 1])\n",
    "plt.show()\n",
    "# 3d plot\n",
    "# fig = plt.figure(figsize=(10,10))\n",
    "# ax = fig.add_subplot(projection='3d')\n",
    "# ax.scatter(transformed_points[:, 0], transformed_points[:, 1], transformed_points[:, 2])\n",
    "# plt.show()"
   ]
  },
  {
   "cell_type": "code",
   "execution_count": 61,
   "metadata": {},
   "outputs": [
    {
     "data": {
      "text/plain": [
       "(9.914494443961734, 9.927486225229053)"
      ]
     },
     "execution_count": 61,
     "metadata": {},
     "output_type": "execute_result"
    }
   ],
   "source": [
    "np.inner(grid.getQuadratureWeights(), aop.payout_func_opt(points)), aop.scholes_call()"
   ]
  },
  {
   "cell_type": "code",
   "execution_count": 62,
   "metadata": {},
   "outputs": [
    {
     "data": {
      "text/plain": [
       "(24.48898293457935, 9.927486225229053)"
      ]
     },
     "execution_count": 62,
     "metadata": {},
     "output_type": "execute_result"
    }
   ],
   "source": [
    "np.inner(grid.getQuadratureWeights(), aop.payout_func_opt(transformed_points)), aop.scholes_call()"
   ]
  },
  {
   "cell_type": "code",
   "execution_count": 63,
   "metadata": {},
   "outputs": [
    {
     "data": {
      "text/plain": [
       "array([[0.90347027, 0.5       ],\n",
       "       [0.93195397, 0.5       ],\n",
       "       [0.95518558, 0.5       ],\n",
       "       [0.97317143, 0.5       ],\n",
       "       [0.98609144, 0.5       ],\n",
       "       [0.99434238, 0.5       ],\n",
       "       [0.99860313, 0.5       ],\n",
       "       [0.99993644, 0.5       ]])"
      ]
     },
     "execution_count": 63,
     "metadata": {},
     "output_type": "execute_result"
    }
   ],
   "source": [
    "transformed_points[-8:]"
   ]
  }
 ],
 "metadata": {
  "kernelspec": {
   "display_name": "Python 3.8.10 ('venv': venv)",
   "language": "python",
   "name": "python3"
  },
  "language_info": {
   "codemirror_mode": {
    "name": "ipython",
    "version": 3
   },
   "file_extension": ".py",
   "mimetype": "text/x-python",
   "name": "python",
   "nbconvert_exporter": "python",
   "pygments_lexer": "ipython3",
   "version": "3.8.10"
  },
  "orig_nbformat": 4,
  "vscode": {
   "interpreter": {
    "hash": "861bdae1d92361f5dca4c96558138137482200a47974de5944b939d98a81f00d"
   }
  }
 },
 "nbformat": 4,
 "nbformat_minor": 2
}
