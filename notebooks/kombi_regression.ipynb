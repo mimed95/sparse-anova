{
 "cells": [
  {
   "cell_type": "code",
   "execution_count": null,
   "metadata": {},
   "outputs": [],
   "source": [
    "# import sparseSpACE\n",
    "%matplotlib inline\n",
    "import numpy as np\n",
    "from sparseSpACE.ErrorCalculator import *\n",
    "from sparseSpACE.GridOperation import *\n",
    "from sparseSpACE.StandardCombi import *\n",
    "from sparseSpACE.DEMachineLearning import *\n",
    "import math\n",
    "\n",
    "def construct_dataset(dim, function, num_points):\n",
    "    grid_points = np.random.rand(num_points,dim)\n",
    "    y_vals = np.array([function(x) for x in grid_points])\n",
    "    return grid_points, y_vals.flatten()\n",
    "\n",
    "dim = 2                              \n",
    "number_samples = 300                 \n",
    "regularization_matrix = 'C'          # other possibility: 'I'\n",
    "regularization_parameter = 10.**-6   # parameter lambda -> prevent overfitting\n",
    "\n",
    "# set up function and draw samples\n",
    "function = GenzGaussian((0.5,0.5), (15,15))\n",
    "data, target = construct_dataset(dim, function, number_samples)\n",
    "\n",
    "# initialize regression object\n",
    "operation = Regression(data, target, regularization_parameter, regularization_matrix)\n",
    "\n",
    "\n",
    "print(\"Plot of the data samples: \")\n",
    "operation.plot_dataset()\n",
    "print(\"Plot of the function: \")\n",
    "function.plot((0,0),(1,1))\n",
    "\n",
    "# train the regression object\n",
    "combiObject = operation.train(percentage_of_testdata=0.2, minimum_level=1, maximum_level=4, noisy_data=True)\n",
    "# print combination scheme with partial results\n",
    "combiObject.print_resulting_combi_scheme(operation=operation)\n",
    "# print resulting sparse grid\n",
    "print(\"Sparse Grid:\")\n",
    "combiObject.print_resulting_sparsegrid(markersize=20)\n",
    "# print combined result\n",
    "print(\"Plot of Regression:\")\n",
    "combiObject.plot(contour=True)\n",
    "# calculate current error (without Opticom)\n",
    "print(\"Testing error without Opticom: \")\n",
    "print(operation.test(combiObject))\n",
    "print(\"Time used: \")\n",
    "print(combiObject.get_time_used())\n",
    "# perform Opticom (option can be changed)\n",
    "operation.optimize_coefficients(combiObject, option=2)\n",
    "# calculate error after Opticom\n",
    "print(\"Testing error with Opticom: \")\n",
    "print(operation.test(combiObject))"
   ]
  },
  {
   "cell_type": "code",
   "execution_count": 10,
   "metadata": {},
   "outputs": [
    {
     "name": "stdout",
     "output_type": "stream",
     "text": [
      "7.38905609893065\n"
     ]
    },
    {
     "ename": "TypeError",
     "evalue": "__init__() takes 1 positional argument but 2 were given",
     "output_type": "error",
     "traceback": [
      "\u001b[0;31m---------------------------------------------------------------------------\u001b[0m",
      "\u001b[0;31mTypeError\u001b[0m                                 Traceback (most recent call last)",
      "\u001b[1;32m/home/michael/coding/sparse-anova/notebooks/kombi_regression.ipynb Cell 2'\u001b[0m in \u001b[0;36m<module>\u001b[0;34m\u001b[0m\n\u001b[1;32m      <a href='vscode-notebook-cell://wsl%2Bubuntu/home/michael/coding/sparse-anova/notebooks/kombi_regression.ipynb#ch0000003vscode-remote?line=0'>1</a>\u001b[0m exp2d \u001b[39m=\u001b[39m \u001b[39mlambda\u001b[39;00m x, y: np\u001b[39m.\u001b[39mexp(x\u001b[39m*\u001b[39my)\n\u001b[1;32m      <a href='vscode-notebook-cell://wsl%2Bubuntu/home/michael/coding/sparse-anova/notebooks/kombi_regression.ipynb#ch0000003vscode-remote?line=1'>2</a>\u001b[0m \u001b[39mprint\u001b[39m(exp2d(\u001b[39m1\u001b[39m,\u001b[39m2\u001b[39m))\n\u001b[0;32m----> <a href='vscode-notebook-cell://wsl%2Bubuntu/home/michael/coding/sparse-anova/notebooks/kombi_regression.ipynb#ch0000003vscode-remote?line=2'>3</a>\u001b[0m f \u001b[39m=\u001b[39m Function(exp2d)\n",
      "\u001b[0;31mTypeError\u001b[0m: __init__() takes 1 positional argument but 2 were given"
     ]
    }
   ],
   "source": [
    "exp2d = lambda x, y: np.exp(x*y)\n",
    "print(exp2d(1,2))\n",
    "f = Function(exp2d)"
   ]
  },
  {
   "cell_type": "markdown",
   "metadata": {},
   "source": [
    "## Spatially adaptive technique"
   ]
  },
  {
   "cell_type": "code",
   "execution_count": null,
   "metadata": {},
   "outputs": [],
   "source": [
    "dim = 2                              \n",
    "number_samples = 300                 \n",
    "regularization_matrix = 'C'          # other possibility: 'I'\n",
    "regularization_parameter = 10.**-6   # parameter lambda -> prevent overfitting\n",
    "\n",
    "# set up function and draw samples\n",
    "function = GenzGaussian((0.5,0.5), (20,20))\n",
    "data, target = construct_dataset(dim, function, number_samples)\n",
    "\n",
    "# initialize regression object\n",
    "operation = Regression(data, target, regularization_parameter, regularization_matrix)\n",
    "\n",
    "\n",
    "print(\"Plot of the data samples: \")\n",
    "operation.plot_dataset()\n",
    "print(\"Plot of the function: \")\n",
    "function.plot((0,0),(1,1))\n",
    "# train the regression object\n",
    "adaptiveCombiInstanceSingleDim = operation.train_spatially_adaptive(\n",
    "    percentage_of_testdata=0.2, margin=0.7, tolerance=10.**-5, max_evaluations=18, do_plot=False, noisy_data=False\n",
    ")\n",
    "# print combination scheme \n",
    "adaptiveCombiInstanceSingleDim.print_resulting_combi_scheme(operation=operation)\n",
    "# print resulting sparse grid\n",
    "print(\"Sparse Grid:\")\n",
    "adaptiveCombiInstanceSingleDim.print_resulting_sparsegrid(markersize=20)\n",
    "# print combined result\n",
    "print(\"Plot of Regression:\")\n",
    "adaptiveCombiInstanceSingleDim.plot(contour=True)\n",
    "# calculate error without Opticom\n",
    "print(\"Testing error without Opticom: \")\n",
    "print(operation.test_spatially_adaptive(adaptiveCombiInstanceSingleDim))\n",
    "# perform Opticom (option can be changed)\n",
    "operation.optimize_coefficients_spatially_adaptive(adaptiveCombiInstanceSingleDim, option=2)\n",
    "# calculate error without Opticom\n",
    "print(\"Testing error with Opticom: \")\n",
    "print(operation.test_spatially_adaptive(adaptiveCombiInstanceSingleDim))"
   ]
  }
 ],
 "metadata": {
  "interpreter": {
   "hash": "861bdae1d92361f5dca4c96558138137482200a47974de5944b939d98a81f00d"
  },
  "kernelspec": {
   "display_name": "Python 3.8.10 64-bit ('venv': venv)",
   "language": "python",
   "name": "python3"
  },
  "language_info": {
   "codemirror_mode": {
    "name": "ipython",
    "version": 3
   },
   "file_extension": ".py",
   "mimetype": "text/x-python",
   "name": "python",
   "nbconvert_exporter": "python",
   "pygments_lexer": "ipython3",
   "version": "3.8.10"
  },
  "orig_nbformat": 4
 },
 "nbformat": 4,
 "nbformat_minor": 2
}
