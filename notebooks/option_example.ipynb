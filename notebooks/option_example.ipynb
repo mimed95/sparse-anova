{
 "cells": [
  {
   "cell_type": "code",
   "execution_count": 1,
   "metadata": {},
   "outputs": [],
   "source": [
    "%load_ext autoreload\n",
    "%autoreload 2"
   ]
  },
  {
   "cell_type": "code",
   "execution_count": 2,
   "metadata": {},
   "outputs": [],
   "source": [
    "from tqdm import tqdm\n",
    "import numpy as np \n",
    "from scipy.stats import norm\n",
    "\n",
    "import matplotlib.pyplot as plt\n",
    "%matplotlib inline\n",
    "\n",
    "import sys\n",
    "sys.path.append(\"..\")\n",
    "from src.py.option import AsianOption\n",
    "from src.py.tasmanian_tools import make_grid"
   ]
  },
  {
   "cell_type": "code",
   "execution_count": 3,
   "metadata": {},
   "outputs": [],
   "source": [
    "s_0_l=80.0\n",
    "s_0_r=120.0\n",
    "sigma_l=0.1\n",
    "sigma_r=0.2\n",
    "mu_l=0.02\n",
    "mu_r=0.05\n",
    "T_l=0.9\n",
    "T_r=1.0\n",
    "K_l=109.0\n",
    "K_r=110.0"
   ]
  },
  {
   "cell_type": "code",
   "execution_count": 4,
   "metadata": {},
   "outputs": [
    {
     "data": {
      "text/plain": [
       "(7.152087238522643, 7.15590176686306)"
      ]
     },
     "execution_count": 4,
     "metadata": {},
     "output_type": "execute_result"
    }
   ],
   "source": [
    "# max possible dim, level before 16 GB RAM is full: 40, 4\n",
    "dim = 16\n",
    "aop = AsianOption(d=dim)\n",
    "level = 4\n",
    "lb, rb = np.zeros(dim), np.ones(dim)\n",
    "\n",
    "grid = make_grid(dim, level, lb, rb, \"gauss-patterson\")\n",
    "weights, points = grid.getQuadratureWeights(), grid.getPoints()\n",
    "pre_factor = np.exp(-aop.r*aop.T+aop.M)\n",
    "payout_v = aop.payout_func_opt(points)\n",
    "pre_factor*np.inner(weights, payout_v), aop.scholes_call()"
   ]
  },
  {
   "cell_type": "code",
   "execution_count": 5,
   "metadata": {},
   "outputs": [
    {
     "data": {
      "text/plain": [
       "True"
      ]
     },
     "execution_count": 5,
     "metadata": {},
     "output_type": "execute_result"
    }
   ],
   "source": [
    "aop.delta_t == 1/dim"
   ]
  },
  {
   "cell_type": "code",
   "execution_count": 6,
   "metadata": {},
   "outputs": [],
   "source": [
    "s_0 = np.linspace(s_0_l, s_0_r, 21)\n",
    "sigma = np.linspace(sigma_l, sigma_r, 5)\n",
    "mu = np.linspace(mu_l, mu_r, 9)\n",
    "T = np.linspace(T_l, T_r, 9)\n",
    "K = np.linspace(K_l, K_r, 9)"
   ]
  },
  {
   "cell_type": "code",
   "execution_count": 7,
   "metadata": {},
   "outputs": [],
   "source": [
    "mesh = np.meshgrid(s_0, sigma, mu, T, K)\n",
    "grid_ar = np.stack(mesh, -1).reshape(-1, 5)\n",
    "\n",
    "## vectorizing training data generation takes up too much memory\n",
    "# -> make a loop\n",
    "\n",
    "#for s_0, sigma, mu, T, K in grid_ar[:10]:\n",
    "#    print(s_0, sigma, mu, T, K)\n"
   ]
  },
  {
   "cell_type": "code",
   "execution_count": null,
   "metadata": {},
   "outputs": [],
   "source": [
    "#grid_ar.shape[0]\n",
    "Y = np.empty((100, 2), dtype=np.float64)\n",
    "i = 0\n",
    "for s_0, sigma, mu, T, K in grid_ar[:100]:\n",
    "    aop = AsianOption(S_0=s_0, sigma=sigma, r=mu, T=T, K=K, d=dim)\n",
    "    pre_factor = np.exp(-aop.r*aop.T+aop.M)\n",
    "    payout_v = aop.payout_func_opt(points)\n",
    "    Y[i] = pre_factor*np.inner(weights, payout_v), aop.scholes_call()\n",
    "    i=+1"
   ]
  },
  {
   "cell_type": "code",
   "execution_count": null,
   "metadata": {},
   "outputs": [],
   "source": [
    "ar = np.load(\"sparse_geom_asian_out.npy\")\n",
    "ar[990:1000]"
   ]
  },
  {
   "cell_type": "code",
   "execution_count": 10,
   "metadata": {},
   "outputs": [
    {
     "name": "stdout",
     "output_type": "stream",
     "text": [
      "[8.200e+01 1.000e-01 3.125e-02 9.375e-01 1.090e+02]\n"
     ]
    },
    {
     "data": {
      "text/plain": [
       "4.1200089200465264e-07"
      ]
     },
     "execution_count": 10,
     "metadata": {},
     "output_type": "execute_result"
    }
   ],
   "source": [
    "#plt.scatter(range(10), np.abs(np.diff(ar[990:1000])))\n",
    "print(grid_ar[999])\n",
    "op = AsianOption(\n",
    "    S_0=grid_ar[999, 0],\n",
    "    sigma=grid_ar[999, 1],\n",
    "    r=grid_ar[999, 2], T=grid_ar[999, 3], K=grid_ar[999, 4], d=dim)\n",
    "op.scholes_call()"
   ]
  }
 ],
 "metadata": {
  "kernelspec": {
   "display_name": "Python 3.8.10 ('venv': venv)",
   "language": "python",
   "name": "python3"
  },
  "language_info": {
   "codemirror_mode": {
    "name": "ipython",
    "version": 3
   },
   "file_extension": ".py",
   "mimetype": "text/x-python",
   "name": "python",
   "nbconvert_exporter": "python",
   "pygments_lexer": "ipython3",
   "version": "3.8.10"
  },
  "orig_nbformat": 4,
  "vscode": {
   "interpreter": {
    "hash": "861bdae1d92361f5dca4c96558138137482200a47974de5944b939d98a81f00d"
   }
  }
 },
 "nbformat": 4,
 "nbformat_minor": 2
}
