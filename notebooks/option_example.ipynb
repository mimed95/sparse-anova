{
 "cells": [
  {
   "cell_type": "code",
   "execution_count": 2,
   "metadata": {},
   "outputs": [],
   "source": [
    "%load_ext autoreload\n",
    "%autoreload 2"
   ]
  },
  {
   "cell_type": "code",
   "execution_count": 2,
   "metadata": {},
   "outputs": [],
   "source": [
    "from tqdm import tqdm\n",
    "import numpy as np \n",
    "from scipy.stats import norm, qmc\n",
    "import seaborn as sns\n",
    "import matplotlib.pyplot as plt\n",
    "%matplotlib inline\n",
    "\n",
    "import sys\n",
    "sys.path.append(\"..\")\n",
    "from src.py.option import AsianOption\n",
    "from src.py.tasmanian_tools import make_grid"
   ]
  },
  {
   "cell_type": "code",
   "execution_count": 3,
   "metadata": {},
   "outputs": [],
   "source": [
    "s_0_l=80.0\n",
    "s_0_r=120.0\n",
    "sigma_l=0.1\n",
    "sigma_r=0.2\n",
    "mu_l=0.02\n",
    "mu_r=0.05\n",
    "T_l=0.9\n",
    "T_r=1.0\n",
    "K_l=109.0\n",
    "K_r=110.0"
   ]
  },
  {
   "cell_type": "code",
   "execution_count": 4,
   "metadata": {},
   "outputs": [
    {
     "data": {
      "text/plain": [
       "(7.152087238522643, 7.15590176686306)"
      ]
     },
     "execution_count": 4,
     "metadata": {},
     "output_type": "execute_result"
    }
   ],
   "source": [
    "# max possible dim, level before 16 GB RAM is full: 40, 4\n",
    "dim = 16\n",
    "aop = AsianOption(d=dim)\n",
    "level = 4\n",
    "lb, rb = np.zeros(dim), np.ones(dim)\n",
    "\n",
    "grid = make_grid(dim, level, lb, rb, \"gauss-patterson\")\n",
    "weights, points = grid.getQuadratureWeights(), grid.getPoints()\n",
    "pre_factor = np.exp(-aop.r*aop.T+aop.M)\n",
    "payout_v = aop.payout_func_opt(points)\n",
    "pre_factor*np.inner(weights, payout_v), aop.scholes_call()"
   ]
  },
  {
   "cell_type": "code",
   "execution_count": 48,
   "metadata": {},
   "outputs": [
    {
     "data": {
      "image/png": "[encoded data removed]",
      "text/plain": [
       "<Figure size 432x288 with 1 Axes>"
      ]
     },
     "metadata": {},
     "output_type": "display_data"
    }
   ],
   "source": [
    "grid2d = make_grid(2, 3, np.zeros(2), np.ones(2), \"gauss-patterson\")\n",
    "weights2d, points2d = grid2d.getQuadratureWeights(), grid2d.getPoints()\n",
    "plt.scatter(points2d[:, 0], points2d[:, 1])\n",
    "plt.title(\"Gauss-Patterson Sparse Grid\")\n",
    "plt.savefig(\"Gauss_patterson_sg.PNG\")\n"
   ]
  },
  {
   "cell_type": "code",
   "execution_count": 47,
   "metadata": {},
   "outputs": [
    {
     "data": {
      "text/plain": [
       "(49, 2)"
      ]
     },
     "execution_count": 47,
     "metadata": {},
     "output_type": "execute_result"
    }
   ],
   "source": [
    "points2d.shape"
   ]
  },
  {
   "cell_type": "code",
   "execution_count": 7,
   "metadata": {},
   "outputs": [],
   "source": [
    "bop = AsianOption(d=dim, random_walk=True)\n",
    "rwalk = bop.gamma_d\n",
    "bop = AsianOption(d=dim)\n",
    "pca = bop.gamma_d"
   ]
  },
  {
   "cell_type": "code",
   "execution_count": 8,
   "metadata": {},
   "outputs": [
    {
     "data": {
      "image/png": "[encoded data removed]",
      "text/plain": [
       "<Figure size 864x576 with 1 Axes>"
      ]
     },
     "metadata": {
      "needs_background": "light"
     },
     "output_type": "display_data"
    }
   ],
   "source": [
    "plt.figure(figsize=(12,8))\n",
    "plt.scatter(np.arange(dim), pca)\n",
    "plt.scatter(np.arange(dim), rwalk)\n",
    "sns.despine()\n",
    "plt.yscale(\"log\")\n",
    "plt.legend([\"PCA\", \"Random Walk\"], fontsize=16)\n",
    "plt.title(\"$\\gamma_{8,j}$\", fontsize=20)\n",
    "#plt.savefig(\"gamma_dj.PNG\")\n",
    "plt.show()"
   ]
  },
  {
   "cell_type": "code",
   "execution_count": 6,
   "metadata": {},
   "outputs": [],
   "source": [
    "s_0 = np.linspace(s_0_l, s_0_r, 21)\n",
    "sigma = np.linspace(sigma_l, sigma_r, 5)\n",
    "mu = np.linspace(mu_l, mu_r, 9)\n",
    "T = np.linspace(T_l, T_r, 9)\n",
    "K = np.linspace(K_l, K_r, 9)\n",
    "\n",
    "mesh = np.meshgrid(s_0, sigma, mu, T, K)\n",
    "grid_ar = np.stack(mesh, -1).reshape(-1, 5)\n",
    "\n",
    "## vectorizing training data generation takes up too much memory\n",
    "# -> make a loop\n",
    "\n",
    "#for s_0, sigma, mu, T, K in grid_ar[:10]:\n",
    "#    print(s_0, sigma, mu, T, K)\n",
    "grid_ar.shape"
   ]
  },
  {
   "cell_type": "code",
   "execution_count": null,
   "metadata": {},
   "outputs": [],
   "source": [
    "#grid_ar.shape[0]\n",
    "Y = np.empty((grid_ar.shape[0], 2), dtype=np.float64)\n",
    "i = 0\n",
    "for s_0, sigma, mu, T, K in grid_ar[:]:\n",
    "    aop = AsianOption(S_0=s_0, sigma=sigma, r=mu, T=T, K=K, d=dim)\n",
    "    pre_factor = np.exp(-aop.r*aop.T+aop.M)\n",
    "    payout_v = aop.payout_func_opt(points)\n",
    "    Y[i] = pre_factor*np.inner(weights, payout_v), aop.scholes_call()\n",
    "    i=+1"
   ]
  },
  {
   "cell_type": "code",
   "execution_count": null,
   "metadata": {},
   "outputs": [],
   "source": [
    "ar = np.load(\"sparse_geom_asian_out.npy\")"
   ]
  },
  {
   "cell_type": "code",
   "execution_count": null,
   "metadata": {},
   "outputs": [
    {
     "name": "stdout",
     "output_type": "stream",
     "text": [
      "[8.200e+01 1.000e-01 3.125e-02 9.375e-01 1.090e+02]\n"
     ]
    },
    {
     "data": {
      "text/plain": [
       "4.1200089200465264e-07"
      ]
     },
     "execution_count": 10,
     "metadata": {},
     "output_type": "execute_result"
    }
   ],
   "source": [
    "#plt.scatter(range(10), np.abs(np.diff(ar[990:1000])))\n",
    "print(grid_ar[999])\n",
    "op = AsianOption(\n",
    "    S_0=grid_ar[999, 0],\n",
    "    sigma=grid_ar[999, 1],\n",
    "    r=grid_ar[999, 2], T=grid_ar[999, 3], K=grid_ar[999, 4], d=dim)\n",
    "op.scholes_call()"
   ]
  },
  {
   "cell_type": "code",
   "execution_count": 34,
   "metadata": {},
   "outputs": [],
   "source": [
    "dim = 16\n",
    "aop = AsianOption(d=dim)\n",
    "level = 4\n",
    "lb, rb = np.zeros(dim), np.ones(dim)\n",
    "\n",
    "grid = make_grid(dim, level, lb, rb, \"gauss-patterson\")\n",
    "weights, points = grid.getQuadratureWeights(), grid.getPoints()\n"
   ]
  },
  {
   "cell_type": "code",
   "execution_count": 36,
   "metadata": {},
   "outputs": [
    {
     "data": {
      "text/plain": [
       "798.720192"
      ]
     },
     "execution_count": 36,
     "metadata": {},
     "output_type": "execute_result"
    }
   ],
   "source": [
    "points = points.astype(np.float32)\n",
    "points.nbytes/1e6"
   ]
  },
  {
   "cell_type": "code",
   "execution_count": 17,
   "metadata": {},
   "outputs": [],
   "source": [
    "err_ar = list()\n",
    "dim = 16\n",
    "aop = AsianOption(d=dim)\n",
    "level = 2\n",
    "lb, rb = np.zeros(dim), np.ones(dim)\n",
    "\n",
    "for l in range(2, 8):\n",
    "    grid = make_grid(dim, l, lb, rb, \"gauss-patterson\")\n",
    "    weights, points = grid.getQuadratureWeights(), grid.getPoints()\n",
    "    pre_factor = np.exp(-aop.r*aop.T+aop.M)\n",
    "    payout_v = aop.payout_func_opt(points)\n",
    "    v_hat, v = pre_factor*np.inner(weights, payout_v), aop.scholes_call()\n",
    "    err_ar.append([len(points), np.log10(np.abs(v-v_hat))])"
   ]
  },
  {
   "cell_type": "code",
   "execution_count": 44,
   "metadata": {},
   "outputs": [
    {
     "name": "stdout",
     "output_type": "stream",
     "text": [
      "577 -4.686933128452411\n",
      "7105 -5.540079893238052\n",
      "69121 -6.5613665959582335\n",
      "565249 -7.034743481233656\n",
      "4038145 -6.844131637930671\n"
     ]
    }
   ],
   "source": [
    "err_ar = list()\n",
    "dim = 16\n",
    "aop = AsianOption(d=dim, K=0.01, S_0=0.1)\n",
    "level = 2\n",
    "lb, rb = np.zeros(dim), np.ones(dim)\n",
    "\n",
    "for l in range(2, 7):\n",
    "    grid = make_grid(dim, l, lb, rb, \"gauss-patterson\")\n",
    "    weights, points = grid.getQuadratureWeights(), grid.getPoints()\n",
    "    pre_factor = np.exp(-aop.r*aop.T+aop.M)\n",
    "    payout_v = aop.payout_func_opt(points)\n",
    "    v_hat, v = pre_factor*np.inner(weights, payout_v), aop.scholes_call()\n",
    "    print(len(points), np.log10(np.abs(v-v_hat)))"
   ]
  },
  {
   "cell_type": "code",
   "execution_count": 45,
   "metadata": {},
   "outputs": [
    {
     "name": "stdout",
     "output_type": "stream",
     "text": [
      "-5.218424473320633\n",
      "-5.968979969108424\n",
      "-7.396726533088685\n",
      "-6.80017963708574\n",
      "inf\n"
     ]
    }
   ],
   "source": [
    "qmc_sampler = qmc.Sobol(\n",
    "    d=dim,\n",
    "    seed=69\n",
    ")\n",
    "#n_samples = \n",
    "for n_samples in [2**9, 2**13, 2**16,2**19, 2**22]:\n",
    "    samples = qmc_sampler.random(n_samples)\n",
    "    payout_mc = aop.payout_func_opt(samples)\n",
    "    v_mc = pre_factor*np.sum(payout_mc)/n_samples\n",
    "    print(np.log10(np.abs(v_mc-v)))"
   ]
  },
  {
   "cell_type": "code",
   "execution_count": 41,
   "metadata": {},
   "outputs": [
    {
     "data": {
      "image/png": "[encoded data removed]",
      "text/plain": [
       "<Figure size 720x432 with 1 Axes>"
      ]
     },
     "metadata": {},
     "output_type": "display_data"
    }
   ],
   "source": [
    "sg_errors = np.array([[577, -4.686933128452411],\n",
    "[7105, -5.540079893238052],\n",
    "[69121, -6.5613665959582335],\n",
    "[565249, -7.034743481233656],\n",
    "[4038145, -6.844131637930671]])\n",
    "mc_errors = np.array([[2**9,-5.218424473320633],\n",
    "[2**13, -5.968979969108424],\n",
    "[2**16,-7.396726533088685],\n",
    "[2**19, -6.80017963708574],\n",
    "[2**22, np.inf]])\n",
    "\n",
    "plt.style.use(\"seaborn-colorblind\")\n",
    "sns.set_theme()\n",
    "\n",
    "plt.figure(figsize=(10,6))\n",
    "plt.scatter(x=sg_errors[:, 0], y=sg_errors[:, 1])\n",
    "plt.scatter(x=mc_errors[:, 0], y=mc_errors[:, 1])\n",
    "plt.legend([\"SGP\", \"QMC\"], fontsize=20)\n",
    "sns.despine()\n",
    "plt.savefig(\"sgmc_errors.PNG\")"
   ]
  },
  {
   "cell_type": "code",
   "execution_count": 30,
   "metadata": {},
   "outputs": [
    {
     "data": {
      "text/plain": [
       "<matplotlib.collections.PathCollection at 0x7f2bafd4c760>"
      ]
     },
     "execution_count": 30,
     "metadata": {},
     "output_type": "execute_result"
    },
    {
     "data": {
      "image/png": "[encoded data removed]",
      "text/plain": [
       "<Figure size 432x288 with 1 Axes>"
      ]
     },
     "metadata": {
      "needs_background": "light"
     },
     "output_type": "display_data"
    }
   ],
   "source": [
    "plt.scatter(np.array(err_ar)[:, 0],np.array(err_ar)[:, 1])\n"
   ]
  },
  {
   "cell_type": "code",
   "execution_count": null,
   "metadata": {},
   "outputs": [],
   "source": []
  }
 ],
 "metadata": {
  "kernelspec": {
   "display_name": "Python 3.8.10 ('venv': venv)",
   "language": "python",
   "name": "python3"
  },
  "language_info": {
   "codemirror_mode": {
    "name": "ipython",
    "version": 3
   },
   "file_extension": ".py",
   "mimetype": "text/x-python",
   "name": "python",
   "nbconvert_exporter": "python",
   "pygments_lexer": "ipython3",
   "version": "3.8.10"
  },
  "orig_nbformat": 4,
  "vscode": {
   "interpreter": {
    "hash": "861bdae1d92361f5dca4c96558138137482200a47974de5944b939d98a81f00d"
   }
  }
 },
 "nbformat": 4,
 "nbformat_minor": 2
}
