{
 "cells": [
  {
   "cell_type": "code",
   "execution_count": 1,
   "metadata": {},
   "outputs": [],
   "source": [
    "%load_ext autoreload\n",
    "%autoreload 2"
   ]
  },
  {
   "cell_type": "code",
   "execution_count": 2,
   "metadata": {},
   "outputs": [],
   "source": [
    "#import chaospy as cp\n",
    "import numpy as np \n",
    "from scipy.stats import norm\n",
    "\n",
    "import matplotlib.pyplot as plt\n",
    "%matplotlib inline\n",
    "\n",
    "import sys\n",
    "sys.path.append(\"..\")\n",
    "from src.py.option import AsianOption\n",
    "from src.py.tasmanian_tools import make_grid"
   ]
  },
  {
   "cell_type": "code",
   "execution_count": 3,
   "metadata": {},
   "outputs": [],
   "source": [
    "s_0_l=80.0\n",
    "s_0_r=120.0\n",
    "sigma_l=0.1\n",
    "sigma_r=0.2\n",
    "mu_l=0.02\n",
    "mu_r=0.05\n",
    "T_l=0.9\n",
    "T_r=1.0\n",
    "K_l=109.0\n",
    "K_r=110.0"
   ]
  },
  {
   "cell_type": "code",
   "execution_count": 16,
   "metadata": {},
   "outputs": [
    {
     "name": "stdout",
     "output_type": "stream",
     "text": [
      "CPU times: user 1e+03 ns, sys: 1 µs, total: 2 µs\n",
      "Wall time: 3.34 µs\n"
     ]
    },
    {
     "data": {
      "text/plain": [
       "(7.152087238522643, 7.15590176686306)"
      ]
     },
     "execution_count": 16,
     "metadata": {},
     "output_type": "execute_result"
    }
   ],
   "source": [
    "# max possible dim, level before 16 GB RAM is full: 40, 4\n",
    "%time\n",
    "dim = 16\n",
    "aop = AsianOption(d=dim)\n",
    "level = 4\n",
    "lb, rb = np.zeros(dim), np.ones(dim)\n",
    "\n",
    "grid = make_grid(dim, level, lb, rb, \"gauss-patterson\")\n",
    "weights, points = grid.getQuadratureWeights(), grid.getPoints()\n",
    "pre_factor = np.exp(-aop.r*aop.T+aop.M)\n",
    "payout_v = aop.payout_func_opt(points)\n",
    "pre_factor*np.inner(weights, payout_v), aop.scholes_call()"
   ]
  },
  {
   "cell_type": "code",
   "execution_count": 12,
   "metadata": {},
   "outputs": [
    {
     "data": {
      "text/plain": [
       "(array([ 80.,  82.,  84.,  86.,  88.,  90.,  92.,  94.,  96.,  98., 100.,\n",
       "        102., 104., 106., 108., 110., 112., 114., 116., 118., 120.]),\n",
       " array([0.1  , 0.125, 0.15 , 0.175, 0.2  ]),\n",
       " array([0.02   , 0.02375, 0.0275 , 0.03125, 0.035  , 0.03875, 0.0425 ,\n",
       "        0.04625, 0.05   ]),\n",
       " array([0.9   , 0.9125, 0.925 , 0.9375, 0.95  , 0.9625, 0.975 , 0.9875,\n",
       "        1.    ]),\n",
       " array([109.   , 109.125, 109.25 , 109.375, 109.5  , 109.625, 109.75 ,\n",
       "        109.875, 110.   ]))"
      ]
     },
     "execution_count": 12,
     "metadata": {},
     "output_type": "execute_result"
    }
   ],
   "source": [
    "s_0 = np.linspace(s_0_l, s_0_r, 21)\n",
    "sigma = np.linspace(sigma_l, sigma_r, 5)\n",
    "mu = np.linspace(mu_l, mu_r, 9)\n",
    "T = np.linspace(T_l, T_r, 9)\n",
    "K = np.linspace(K_l, K_r, 9)\n",
    "s_0, sigma, mu, T, K"
   ]
  }
 ],
 "metadata": {
  "kernelspec": {
   "display_name": "Python 3.8.10 ('venv': venv)",
   "language": "python",
   "name": "python3"
  },
  "language_info": {
   "codemirror_mode": {
    "name": "ipython",
    "version": 3
   },
   "file_extension": ".py",
   "mimetype": "text/x-python",
   "name": "python",
   "nbconvert_exporter": "python",
   "pygments_lexer": "ipython3",
   "version": "3.8.10"
  },
  "orig_nbformat": 4,
  "vscode": {
   "interpreter": {
    "hash": "861bdae1d92361f5dca4c96558138137482200a47974de5944b939d98a81f00d"
   }
  }
 },
 "nbformat": 4,
 "nbformat_minor": 2
}
