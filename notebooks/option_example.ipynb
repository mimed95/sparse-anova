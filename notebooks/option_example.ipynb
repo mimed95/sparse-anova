{
 "cells": [
  {
   "cell_type": "code",
   "execution_count": 1,
   "source": [
    "%load_ext autoreload\n",
    "%autoreload 2"
   ],
   "outputs": [],
   "metadata": {}
  },
  {
   "cell_type": "code",
   "execution_count": 2,
   "source": [
    "import chaospy as cp\n",
    "import numpy as np \n",
    "from itertools import product, repeat\n",
    "import matplotlib.pyplot as plt\n",
    "%matplotlib inline\n",
    "\n",
    "import sys\n",
    "sys.path.append(\"..\")\n",
    "from src.option import AsianOption"
   ],
   "outputs": [],
   "metadata": {}
  },
  {
   "cell_type": "code",
   "execution_count": 3,
   "source": [
    "def S_t(S_0: float, r: float, sigma: float, t: float, W: float):\n",
    "    return S_0*np.exp(\n",
    "        (r-sigma**2*0.5)*t + sigma*W\n",
    "    )\n",
    "\n",
    "def geom_asian_payout(S: np.ndarray, K: float):\n",
    "    d = len(S)\n",
    "    return np.prod(\n",
    "        np.maximum(S-K, 0)\n",
    "    )**(1/d)\n",
    "\n",
    "\n",
    "def cov_brownian_bridge(s, t):\n",
    "    \"\"\"Entry for covariance martix computed according to\n",
    "    https://math.stackexchange.com/questions/264067/covariance-of-brownian-bridge.\n",
    "    Where s < t.\n",
    "\n",
    "    Args:\n",
    "        s (float): Time s.\n",
    "        t (float): Time t.\n",
    "\n",
    "    Returns:\n",
    "        float: Covariance of Brownian Bridge\n",
    "    \"\"\"\n",
    "    return s*(1-t) #if s <= t else 0\n",
    "\n",
    "def asian_payout_w(\n",
    "    d: int,\n",
    "    S_0: float,\n",
    "    K,\n",
    "    r: float,\n",
    "    sigma: float,\n",
    "    t: float,\n",
    "    z: np.ndarray\n",
    "):\n",
    "    m = np.log(S_0)+0.5*(r-0.5*sigma**2)*(T+delta_t)#\n",
    "    V = np.exp(m+sigma/d*np.sum(A@z))\n",
    "    return np.maximum(V-K, 0)\n",
    "    "
   ],
   "outputs": [],
   "metadata": {}
  },
  {
   "cell_type": "markdown",
   "source": [
    "# Asiatische Option  \n",
    "\n",
    "Als geläufiges Beispiel für Optionspreisbestimmung wird hier eine asiatische Option bewertet.  \n",
    "Die geschlossene Formel für asiatische Optionen lautet:\n",
    "$$ V(S,0)=S(0)\\gamma \\Phi(\\beta+\\sigma \\sqrt{T_1})-Ke^{-rT}\\Phi(\\beta) $$\n",
    "mit \n",
    "$$ \\gamma:= e^{−r(T −T_2 )−σ^2(T_2 −T_1 )/2} $$\n",
    "$$ \\beta:= \\frac{\n",
    "    ln(S(0)/K)+(r-0.5\\sigma^2)T_2\n",
    "}{\\sigma \\sqrt{T_1}} $$\n",
    "$$ T_1 := T-\\frac{\n",
    "    d(d-1)(4d+1)}{6d^2}\\Delta t $$\n",
    "$$ T_2 := T-\\frac{d-1}{2} \\Delta t$$"
   ],
   "metadata": {}
  },
  {
   "cell_type": "markdown",
   "source": [
    "![](/home/michael/Pictures/euroasianoptionprice.png)"
   ],
   "metadata": {}
  },
  {
   "cell_type": "markdown",
   "source": [
    "## Beispiel für $d=16$ Zeitschritte, $S(0)=100, \\sigma=0.2, r=0.1, T=1, K=100$"
   ],
   "metadata": {}
  },
  {
   "cell_type": "code",
   "execution_count": 4,
   "source": [
    "from scipy.stats import norm\n",
    "\n",
    "S_0 = 100\n",
    "d = 16\n",
    "dim = 1\n",
    "a, b = 0,1\n",
    "y = norm.rvs(size=d)\n",
    "I = np.linspace(a,b, d, dtype=np.float32, endpoint=False) + 1/d\n",
    "sigma = 0.2\n",
    "r = 0.1\n",
    "T, delta_t = 1, I[1]-I[0]\n",
    "K = 100\n",
    "# T_1 = T - (d*(d-1)*(4*d+1))/(6*d**2)*delta_t\n",
    "# T_2 = T - 0.5*(d-1)*2\n",
    "# beta = (np.log(S_0/K)+ (r-0.5*sigma**2)*T_1)/(sigma*np.sqrt(T_1))\n",
    "# gamma = np.exp(-r*(T-T_2)-sigma**2*(T_2-T_1)/2)\n",
    "\n",
    "\n",
    "st = np.mgrid[1:d+1, 1:d+1]/d\n",
    "s, t = st\n",
    "cov = st.min(axis=0)*sigma**2\n",
    "sigma_g = sigma/np.sqrt(3)\n",
    "b = 0.5*(r-0.5*sigma_g**2)\n",
    "d1 = (np.log(S_0/K)+ (b+0.5*sigma_g**2)*T)/(sigma_g*np.sqrt(T))\n",
    "d2 = d1-sigma_g*np.sqrt(T)\n",
    "C_G = S_0*np.exp((b-r)*T)*norm.cdf(d1) - K*np.exp(-r*T)*norm.cdf(d2)\n",
    "print(f\"Exact option premium: {C_G:.4f}\")"
   ],
   "outputs": [
    {
     "output_type": "stream",
     "name": "stdout",
     "text": [
      "Exact option premium: 6.7700\n"
     ]
    }
   ],
   "metadata": {}
  },
  {
   "cell_type": "code",
   "execution_count": 5,
   "source": [
    "from scipy.stats import norm, multivariate_normal\n",
    "y = norm.rvs(size=d)\n",
    "#A = np.sqrt(delta_t)* np.tril(np.ones(d)) # random walk brownian\n",
    "A = np.linalg.cholesky(cov) # Brownian Bridge brownian\n",
    "S = S_t(S_0, r, sigma, I, A.dot(y))\n",
    "plt.plot(I, S)\n",
    "plt.plot()\n",
    "plt.title(\"Example path for $S$\")\n",
    "plt.show()\n",
    "\n"
   ],
   "outputs": [
    {
     "output_type": "display_data",
     "data": {
      "text/plain": [
       "<Figure size 432x288 with 1 Axes>"
      ],
      "image/png": "[encoded data removed]"
     },
     "metadata": {
      "needs_background": "light"
     }
    }
   ],
   "metadata": {}
  },
  {
   "cell_type": "code",
   "execution_count": 6,
   "source": [
    "#cp.generate_quadrature(3)\n",
    "k1, k2 = -20, 20\n",
    "iid_dist = cp.Iid(cp.Uniform(k1, k2), 16) \n",
    "\n",
    "abscissas, weights =  cp.generate_quadrature(\n",
    "    3, iid_dist, sparse=True, \n",
    "    #rule=\"patterson\"\n",
    ")\n",
    "\n",
    "#geom_asian_payout()\n",
    "abscissas.shape\n",
    "payout_vector = np.apply_along_axis(\n",
    "    geom_asian_payout,\n",
    "    axis=1,\n",
    "    arr=S_t(S_0, r, sigma, I, (A.T@abscissas).transpose()),\n",
    "    K=K\n",
    ")\n",
    "\n",
    "phi_d = multivariate_normal(mean=np.zeros(d)) \n",
    "np.apply_along_axis(phi_d.pdf,0, abscissas).shape"
   ],
   "outputs": [
    {
     "output_type": "execute_result",
     "data": {
      "text/plain": [
       "(6049,)"
      ]
     },
     "metadata": {},
     "execution_count": 6
    }
   ],
   "metadata": {}
  },
  {
   "cell_type": "code",
   "execution_count": 49,
   "source": [
    "ao = AsianOption(d=16)\n",
    "abscissas, weights =  ao.gen_quad()\n",
    "payouts_v = ao.payout_func(abscissas)\n",
    "plt.plot(payouts_v)\n",
    "ao.compute_premium()\n",
    "#payouts_v.min(), payouts_v.max()"
   ],
   "outputs": [
    {
     "output_type": "execute_result",
     "data": {
      "text/plain": [
       "82.06495945231785"
      ]
     },
     "metadata": {},
     "execution_count": 49
    },
    {
     "output_type": "display_data",
     "data": {
      "text/plain": [
       "<Figure size 432x288 with 1 Axes>"
      ],
      "image/png": "[encoded data removed]"
     },
     "metadata": {
      "needs_background": "light"
     }
    }
   ],
   "metadata": {}
  },
  {
   "cell_type": "code",
   "execution_count": 30,
   "source": [
    "ao.t_v"
   ],
   "outputs": [
    {
     "output_type": "execute_result",
     "data": {
      "text/plain": [
       "array([0.0625, 0.125 , 0.1875, 0.25  , 0.3125, 0.375 , 0.4375, 0.5   ,\n",
       "       0.5625, 0.625 , 0.6875, 0.75  , 0.8125, 0.875 , 0.9375, 1.    ])"
      ]
     },
     "metadata": {},
     "execution_count": 30
    }
   ],
   "metadata": {}
  }
 ],
 "metadata": {
  "orig_nbformat": 4,
  "language_info": {
   "name": "python",
   "version": "3.9.6",
   "mimetype": "text/x-python",
   "codemirror_mode": {
    "name": "ipython",
    "version": 3
   },
   "pygments_lexer": "ipython3",
   "nbconvert_exporter": "python",
   "file_extension": ".py"
  },
  "kernelspec": {
   "name": "python3",
   "display_name": "Python 3.9.6 64-bit ('venv')"
  },
  "interpreter": {
   "hash": "6b0874283ec7fcc4fdfe3b2299dbbf6403a3d5b70e701f9cca2a76bb7eded96f"
  }
 },
 "nbformat": 4,
 "nbformat_minor": 2
}