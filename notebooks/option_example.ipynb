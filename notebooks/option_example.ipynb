{
 "cells": [
  {
   "cell_type": "code",
   "execution_count": 1,
   "metadata": {},
   "outputs": [],
   "source": [
    "%load_ext autoreload\n",
    "%autoreload 2"
   ]
  },
  {
   "cell_type": "code",
   "execution_count": 2,
   "metadata": {},
   "outputs": [],
   "source": [
    "#import chaospy as cp\n",
    "import numpy as np \n",
    "from itertools import product, repeat\n",
    "import matplotlib.pyplot as plt\n",
    "%matplotlib inline\n",
    "\n",
    "import sys\n",
    "sys.path.append(\"..\")\n",
    "from src.py.option import AsianOption\n",
    "from src.py.tasmanian_tools import make_grid"
   ]
  },
  {
   "cell_type": "code",
   "execution_count": 3,
   "metadata": {},
   "outputs": [],
   "source": [
    "s_0_l=80.0\n",
    "s_0_r=120.0\n",
    "sigma_l=0.1\n",
    "sigma_r=0.2\n",
    "mu_l=0.02\n",
    "mu_r=0.05\n",
    "T_l=0.9\n",
    "T_r=1.0\n",
    "K_l=109.0\n",
    "K_r=110.0"
   ]
  },
  {
   "cell_type": "code",
   "execution_count": 11,
   "metadata": {},
   "outputs": [],
   "source": [
    "# max possible dim before 16 GB RAM is full: 40\n",
    "dim = 40\n",
    "aop = AsianOption(d=dim)\n",
    "level = 4\n",
    "lb, rb = np.zeros(dim), np.ones(dim)\n",
    "\n",
    "grid = make_grid(dim, level, lb, rb, \"gauss-patterson\")\n",
    "weights, points = grid.getQuadratureWeights(), grid.getPoints()"
   ]
  },
  {
   "cell_type": "code",
   "execution_count": 5,
   "metadata": {},
   "outputs": [],
   "source": [
    "from scipy.stats import norm\n",
    "pre_factor = np.exp(-aop.r*aop.T+aop.M)\n",
    "\n",
    "# gamma_d coefficients in PCA case\n",
    "denom = 1/((2*np.arange(dim)+1)**2*np.pi**2)\n",
    "gamma_d = 4*aop.sigma*np.sqrt(2*aop.T)*denom + 3*aop.sigma*np.sqrt(2*aop.T)*denom/dim\n"
   ]
  },
  {
   "cell_type": "code",
   "execution_count": 13,
   "metadata": {},
   "outputs": [],
   "source": [
    "payout_v = np.maximum(\n",
    "    np.exp(norm.ppf(points)@gamma_d) - np.exp(-aop.M)*aop.K, 0\n",
    ")"
   ]
  },
  {
   "cell_type": "code",
   "execution_count": 15,
   "metadata": {},
   "outputs": [
    {
     "data": {
      "text/plain": [
       "(6.920569334910785, 6.924065205312608)"
      ]
     },
     "execution_count": 15,
     "metadata": {},
     "output_type": "execute_result"
    }
   ],
   "source": [
    "pre_factor*np.inner(weights, payout_v), aop.scholes_call()"
   ]
  },
  {
   "cell_type": "code",
   "execution_count": null,
   "metadata": {},
   "outputs": [],
   "source": []
  }
 ],
 "metadata": {
  "kernelspec": {
   "display_name": "Python 3.7.13 64-bit ('sgpp')",
   "language": "python",
   "name": "python3"
  },
  "language_info": {
   "codemirror_mode": {
    "name": "ipython",
    "version": 3
   },
   "file_extension": ".py",
   "mimetype": "text/x-python",
   "name": "python",
   "nbconvert_exporter": "python",
   "pygments_lexer": "ipython3",
   "version": "3.7.13"
  },
  "orig_nbformat": 4,
  "vscode": {
   "interpreter": {
    "hash": "920842f7d48076358bb3a2b9a672e72d3ffeef20a554a146a4bef4d76ce824d1"
   }
  }
 },
 "nbformat": 4,
 "nbformat_minor": 2
}
