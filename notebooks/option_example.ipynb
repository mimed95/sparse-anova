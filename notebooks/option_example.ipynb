{
 "cells": [
  {
   "cell_type": "code",
   "execution_count": 1,
   "source": [
    "import chaospy as cp\n",
    "import numpy as np \n",
    "from itertools import product, repeat\n",
    "import matplotlib.pyplot as plt\n",
    "%matplotlib inline"
   ],
   "outputs": [],
   "metadata": {}
  },
  {
   "cell_type": "code",
   "execution_count": 2,
   "source": [
    "def S_t(S_0: float, r: float, sigma: float, t: float, W: float):\n",
    "    return S_0*np.exp(\n",
    "        (r-sigma**2)*0.5*t + sigma**W\n",
    "    )\n",
    "\n",
    "def geom_asian_payout(S: np.ndarray, K: float):\n",
    "    d = len(S)\n",
    "    return 1/d*np.sum(\n",
    "        max(S-K, 0)\n",
    "    )\n",
    "\n",
    "def cov_brownian_bridge(s, t):\n",
    "    \"\"\"Entry for covariance martix computed according to\n",
    "    https://math.stackexchange.com/questions/264067/covariance-of-brownian-bridge.\n",
    "    Where s < t.\n",
    "\n",
    "    Args:\n",
    "        s (float): Time s.\n",
    "        t (float): Time t.\n",
    "\n",
    "    Returns:\n",
    "        float: Covariance of Brownian Bridge\n",
    "    \"\"\"\n",
    "    return s*(1-t) #if s <= t else 0\n"
   ],
   "outputs": [],
   "metadata": {}
  },
  {
   "cell_type": "markdown",
   "source": [
    "# Asiatische Option  \n",
    "\n",
    "Als geläufiges Beispiel für Optionspreisbestimmung wird hier eine asiatische Option bewertet.  \n",
    "Die geschlossene Formel für asiatische Optionen lautet:\n",
    "$$ V(S,0)=S(0)\\gamma \\Phi(\\beta+\\sigma \\sqrt{T_1})-Ke^{-rT}\\Phi(\\beta) $$\n",
    "mit \n",
    "$$ \\gamma:= e^{−r(T −T_2 )−σ^2(T_2 −T_1 )/2} $$\n",
    "$$ \\beta:= \\frac{\n",
    "    ln(S(0)/K)+(r-0.5\\sigma^2)T_2\n",
    "}{\\sigma \\sqrt{T_1}} $$\n",
    "$$ T_1 := T-\\frac{\n",
    "    d(d-1)(4d+1)}{6d^2}\\Delta t $$\n",
    "$$ T_2 := T-\\frac{d-1}{2} \\Delta t$$"
   ],
   "metadata": {}
  },
  {
   "cell_type": "markdown",
   "source": [
    "![](/home/michael/Pictures/euroasianoptionprice.png)"
   ],
   "metadata": {}
  },
  {
   "cell_type": "markdown",
   "source": [
    "## Beispiel für $d=16$ Zeitschritte, $S(0)=100, \\sigma=0.2, r=0.1, T=1, K=100$"
   ],
   "metadata": {}
  },
  {
   "cell_type": "code",
   "execution_count": 3,
   "source": [
    "from scipy.stats import norm\n",
    "\n",
    "S_0 = 100\n",
    "d = 16\n",
    "dim = 1\n",
    "a, b = 0,1\n",
    "y = np.random.normal(size=d)\n",
    "I = np.linspace(a,b, d, dtype=np.float32, endpoint=False) + 1/d\n",
    "sigma = 0.2\n",
    "r = 0.1\n",
    "T, delta_t = 1, I[1]-I[0]\n",
    "K = 100\n",
    "# T_1 = T - (d*(d-1)*(4*d+1))/(6*d**2)*delta_t\n",
    "# T_2 = T - 0.5*(d-1)*2\n",
    "# beta = (np.log(S_0/K)+ (r-0.5*sigma**2)*T_1)/(sigma*np.sqrt(T_1))\n",
    "# gamma = np.exp(-r*(T-T_2)-sigma**2*(T_2-T_1)/2)\n",
    "\n",
    "\n",
    "st = np.mgrid[1:d+1, 1:d+1]/d\n",
    "s, t = st\n",
    "cov = st.min(axis=0)*sigma**2\n",
    "A = np.linalg.cholesky(cov)\n",
    "sigma_g = sigma/np.sqrt(3)\n",
    "b = 0.5*(r-0.5*sigma_g**2)\n",
    "d1 = (np.log(S_0/K)+ (b+0.5*sigma_g**2)*T)/(sigma_g*np.sqrt(T))\n",
    "d2 = d1-sigma_g*np.sqrt(T)\n",
    "C_G = S_0*np.exp((b-r)*T)*norm.cdf(d1) - K*np.exp(-r*T)*norm.cdf(d2)\n",
    "print(C_G)"
   ],
   "outputs": [
    {
     "output_type": "stream",
     "name": "stdout",
     "text": [
      "6.769950595122843\n"
     ]
    }
   ],
   "metadata": {}
  },
  {
   "cell_type": "code",
   "execution_count": 4,
   "source": [
    "A = np.sqrt(delta_t)* np.tril(np.ones(d)) \n",
    "plt.plot(A@y)\n",
    "#norm.pdf(y)\n",
    "plt.show()"
   ],
   "outputs": [
    {
     "output_type": "display_data",
     "data": {
      "text/plain": [
       "<Figure size 432x288 with 1 Axes>"
      ],
      "image/png": "[encoded data removed]"
     },
     "metadata": {
      "needs_background": "light"
     }
    }
   ],
   "metadata": {}
  },
  {
   "cell_type": "code",
   "execution_count": 8,
   "source": [
    "#cp.generate_quadrature(3)\n",
    "k1, k2 = -20, 20\n",
    "iid_dist = cp.Iid(cp.Uniform(k1, k2), 16) \n",
    "\n",
    "abscissas, weights =  cp.generate_quadrature(\n",
    "    3, iid_dist, sparse=True\n",
    ")\n",
    "abscissas.shape"
   ],
   "outputs": [
    {
     "output_type": "execute_result",
     "data": {
      "text/plain": [
       "(16, 6049)"
      ]
     },
     "metadata": {},
     "execution_count": 8
    }
   ],
   "metadata": {}
  }
 ],
 "metadata": {
  "orig_nbformat": 4,
  "language_info": {
   "name": "python",
   "version": "3.9.6",
   "mimetype": "text/x-python",
   "codemirror_mode": {
    "name": "ipython",
    "version": 3
   },
   "pygments_lexer": "ipython3",
   "nbconvert_exporter": "python",
   "file_extension": ".py"
  },
  "kernelspec": {
   "name": "python3",
   "display_name": "Python 3.9.6 64-bit ('venv')"
  },
  "interpreter": {
   "hash": "6b0874283ec7fcc4fdfe3b2299dbbf6403a3d5b70e701f9cca2a76bb7eded96f"
  }
 },
 "nbformat": 4,
 "nbformat_minor": 2
}