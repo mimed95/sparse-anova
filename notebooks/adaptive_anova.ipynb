{
 "cells": [
  {
   "cell_type": "code",
   "execution_count": 1,
   "metadata": {},
   "outputs": [],
   "source": [
    "import sys\n",
    "import math\n",
    "from pysgpp import *\n",
    "import matplotlib.pyplot as plotter\n",
    "from mpl_toolkits.mplot3d import Axes3D"
   ]
  },
  {
   "cell_type": "code",
   "execution_count": 2,
   "metadata": {},
   "outputs": [],
   "source": [
    "def calculateError(dataSet,f,grid,alpha,error):\n",
    "    print(\"calculating error\")\n",
    "    #traverse dataSet\n",
    "    vec = DataVector(2)\n",
    "    opEval = createOperationEval(grid)\n",
    "    for i in range(dataSet.getNrows()):\n",
    "        dataSet.getRow(i,vec)\n",
    "        error[i] = pow(f(dataSet.get(i,0),dataSet.get(i,1))-opEval.eval(alpha,vec),2)\n",
    "    return error"
   ]
  },
  {
   "cell_type": "code",
   "execution_count": 3,
   "metadata": {},
   "outputs": [],
   "source": [
    "f = lambda x0, x1: math.sin(x0*10)+x1"
   ]
  },
  {
   "cell_type": "code",
   "execution_count": 4,
   "metadata": {},
   "outputs": [
    {
     "name": "stdout",
     "output_type": "stream",
     "text": [
      "dimensionality:                   2\n",
      "number of initial grid points:    17\n",
      "length of alpha vector:           17\n"
     ]
    }
   ],
   "source": [
    "dim = 2\n",
    "grid = Grid.createLinearGrid(dim)\n",
    "HashGridStorage = grid.getStorage()\n",
    "print(\"dimensionality:                   {}\".format(dim))\n",
    "# create regular grid, level 3\n",
    "level = 3\n",
    "gridGen = grid.getGenerator()\n",
    "gridGen.regular(level)\n",
    "print(\"number of initial grid points:    {}\".format(HashGridStorage.getSize()))\n",
    "# create coefficient vectors\n",
    "alpha = DataVector(HashGridStorage.getSize())\n",
    "print(\"length of alpha vector:           {}\".format(alpha.getSize()))\n"
   ]
  },
  {
   "cell_type": "code",
   "execution_count": 5,
   "metadata": {},
   "outputs": [],
   "source": [
    "rows = 100\n",
    "cols = 100\n",
    "dataSet = DataMatrix(rows*cols,dim)\n",
    "vals = DataVector(rows*cols)\n",
    "for i in range(rows):\n",
    "    for j in range(cols):\n",
    "        #xcoord\n",
    "        dataSet.set(i*cols+j,0,i*1.0/rows)\n",
    "        #ycoord\n",
    "        dataSet.set(i*cols+j,1,j*1.0/cols)\n",
    "        vals[i*cols+j] = f(i*1.0/rows,j*1.0/cols)"
   ]
  },
  {
   "cell_type": "code",
   "execution_count": null,
   "metadata": {},
   "outputs": [],
   "source": [
    "# create coefficient vectors\n",
    "alpha = DataVector(HashGridStorage.getSize())\n",
    "print(\"length of alpha vector:           {}\".format(alpha.getSize()))\n",
    "# now refine adaptively 20 times\n",
    "for refnum in range(20):\n",
    "    gp = HashGridStorage.getPoint(i)\n",
    "    alpha[i] = f(gp.getStandardCoordinate(0), gp.getStandardCoordinate(1))\n",
    "    # hierarchize\n",
    "    createOperationHierarchisation(grid).doHierarchisation(alpha)"
   ]
  },
  {
   "cell_type": "code",
   "execution_count": null,
   "metadata": {},
   "outputs": [],
   "source": [
    "errorVector = DataVector(dataSet.getNrows())\n",
    "calculateError(dataSet, f, grid, alpha, errorVector)\n",
    "\n"
   ]
  }
 ],
 "metadata": {
  "interpreter": {
   "hash": "6b0874283ec7fcc4fdfe3b2299dbbf6403a3d5b70e701f9cca2a76bb7eded96f"
  },
  "kernelspec": {
   "display_name": "sparse-anova",
   "language": "python",
   "name": "sparse-anova"
  },
  "language_info": {
   "codemirror_mode": {
    "name": "ipython",
    "version": 3
   },
   "file_extension": ".py",
   "mimetype": "text/x-python",
   "name": "python",
   "nbconvert_exporter": "python",
   "pygments_lexer": "ipython3",
   "version": "3.9.6"
  }
 },
 "nbformat": 4,
 "nbformat_minor": 4
}
