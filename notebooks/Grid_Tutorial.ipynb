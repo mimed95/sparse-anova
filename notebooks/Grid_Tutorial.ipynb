{
 "cells": [
  {
   "cell_type": "code",
   "execution_count": null,
   "metadata": {},
   "outputs": [],
   "source": [
    "%load_ext autoreload\n",
    "%autoreload 2\n",
    "%matplotlib inline\n",
    "import sparseSpACE\n",
    "from sparseSpACE.Function import *\n",
    "from sparseSpACE.StandardCombi import *\n",
    "from sparseSpACE.Grid import *\n",
    "import numpy as np\n",
    "from numba import jit"
   ]
  },
  {
   "cell_type": "markdown",
   "metadata": {},
   "source": [
    "## Clenshaw-Curtis Grid\n"
   ]
  },
  {
   "cell_type": "code",
   "execution_count": null,
   "metadata": {},
   "outputs": [],
   "source": [
    "dim = 5\n",
    "coeffs = np.ones(dim)*5\n",
    "midpoint = np.ones(dim)*0.5\n",
    "a = np.zeros(dim)\n",
    "b = np.ones(dim)\n",
    "grid = GaussLegendreGrid(a=a, b=b)\n",
    "f = GenzDiscontinious(coeffs, midpoint)\n",
    "\n",
    "# NEW! define operation which shall be performed in the combination technique\n",
    "from sparseSpACE.GridOperation import *\n",
    "operation = Integration(f=f, grid=grid, dim=dim, reference_solution = f.getAnalyticSolutionIntegral(a,b))\n",
    "combiObject = StandardCombi(a, b, operation=operation)\n",
    "minimum_level = 1\n",
    "maximum_level = 5\n",
    "combiObject.perform_operation(minimum_level, maximum_level, f)\n",
    "#combiObject.print_resulting_combi_scheme()\n",
    "#combiObject.print_resulting_sparsegrid()"
   ]
  },
  {
   "cell_type": "markdown",
   "metadata": {},
   "source": [
    "## Gauss-Legendre Grid"
   ]
  },
  {
   "cell_type": "code",
   "execution_count": null,
   "metadata": {},
   "outputs": [],
   "source": [
    "dim = 3\n",
    "coeffs = np.ones(dim)\n",
    "offset = 0.5\n",
    "a = np.zeros(dim)\n",
    "b = np.ones(dim)\n",
    "grid = ClenshawCurtisGrid(a=a, b=b)\n",
    "f = GenzOszillatory(coeffs=coeffs, offset=offset)\n",
    "reference_solution = f.getAnalyticSolutionIntegral(a,b)\n",
    "\n",
    "# NEW! define operation which shall be performed in the combination technique\n",
    "from sparseSpACE.GridOperation import *\n",
    "operation = Integration(f=f, grid=grid, dim=dim, reference_solution=reference_solution)\n",
    "combiObject = StandardCombi(a, b, operation=operation, log_level=log_levels.WARNING)\n",
    "minimum_level = 1\n",
    "maximum_level = 5\n",
    "combiObject.perform_operation(minimum_level, maximum_level, f)"
   ]
  },
  {
   "cell_type": "markdown",
   "metadata": {},
   "source": [
    "## Spatially Adaptive Combination"
   ]
  },
  {
   "cell_type": "code",
   "execution_count": null,
   "metadata": {},
   "outputs": [],
   "source": [
    "from sparseSpACE.spatiallyAdaptiveCell import *\n",
    "from sparseSpACE.Function import *\n",
    "from sparseSpACE.ErrorCalculator import *\n",
    "from sparseSpACE.GridOperation import *\n",
    "#dimension of the problem\n",
    "dim = 2\n",
    "# define function to be integrated\n",
    "coeffs = np.ones(dim)*5\n",
    "#midpoint = np.ones(dim)*0.5\n",
    "offset = 0.5\n",
    "a = np.zeros(dim)\n",
    "b = np.ones(dim)\n",
    "grid = TrapezoidalGrid(a=a, b=b)\n",
    "f = GenzOszillatory(coeffs, offset)\n",
    "# plot function\n",
    "#f.plot(np.ones(dim)*a,np.ones(dim)*b)\n",
    "\n",
    "# reference integral solution for calculating errors\n",
    "reference_solution = f.getAnalyticSolutionIntegral(a,b)\n",
    "\n",
    "# define error estimator for refinement\n",
    "errorOperator=ErrorCalculatorSurplusCell()\n",
    "\n",
    "# NEW! define operation which shall be performed in the combination technique\n",
    "operation = Integration(f=f, grid=grid, dim=dim, reference_solution = reference_solution, print_level=0)\n",
    "\n",
    "# define Cell refinement strategy for Spatially Adaptive Combination Technique\n",
    "adaptiveCombiInstanceCell = SpatiallyAdaptiveCellScheme(a, b, operation=operation)\n",
    "\n",
    "# the cell method does not have component grids and therefore the sparse grid is printed twice per iteration!\n",
    "# performing the spatially adaptive refinement with the Cell method\n",
    "adaptiveCombiInstanceCell.performSpatiallyAdaptiv(2, 2, errorOperator, 10**-2, do_plot=False, print_output=False)\n",
    "\n",
    "print(\"Number of points used in refinement:\", adaptiveCombiInstanceCell.get_total_num_points())"
   ]
  },
  {
   "cell_type": "code",
   "execution_count": null,
   "metadata": {},
   "outputs": [],
   "source": [
    "import sys\n",
    "sys.path.append(\"..\")\n",
    "\n",
    "from src.py.option import sde_body, EuropeanOption, AsianOption\n"
   ]
  },
  {
   "cell_type": "markdown",
   "metadata": {},
   "source": [
    "# Valuation Examples:  \n",
    "## European Call Option"
   ]
  },
  {
   "cell_type": "code",
   "execution_count": null,
   "metadata": {},
   "outputs": [],
   "source": [
    "def phi(x,sigma,mu,T,K, axis=1):\n",
    "    payoffcoarse=np.exp(-mu * T)* np.maximum(x - K, 0.) \n",
    "    return payoffcoarse\n",
    "eop = EuropeanOption()\n",
    "dim = 1\n",
    "eop_payout = lambda x: phi(eop.S_t(x), eop.sigma, eop.r, eop.T, eop.K)\n",
    "sparse_payout = CustomFunction(eop_payout)\n",
    "\n",
    "a = np.zeros(dim)\n",
    "b = np.ones(dim)\n",
    "grid = GaussLegendreGrid(a=a, b=b)\n",
    "f = sparse_payout\n",
    "\n",
    "# NEW! define operation which shall be performed in the combination technique\n",
    "from sparseSpACE.GridOperation import *\n",
    "operation = Integration(f=f, grid=grid, dim=dim, reference_solution=eop.scholes_call())\n",
    "combiObject = StandardCombi(a, b, operation=operation)\n",
    "minimum_level = 1\n",
    "maximum_level = 7\n",
    "combiObject.perform_operation(minimum_level, maximum_level, f)"
   ]
  },
  {
   "cell_type": "markdown",
   "metadata": {},
   "source": [
    "## Asian Geometric Call Option"
   ]
  },
  {
   "cell_type": "code",
   "execution_count": null,
   "metadata": {},
   "outputs": [],
   "source": [
    "aop = AsianOption(d=3)\n",
    "dim = aop.d\n",
    "aop_payout = lambda x: aop.payout_func(aop.S_t(x))\n",
    "sparse_payout = CustomFunction(aop_payout)\n",
    "a = np.zeros(dim)\n",
    "b = np.ones(dim)\n",
    "grid = ClenshawCurtisGrid(a=a+aop.epsilon, b=b-aop.epsilon)\n",
    "f = sparse_payout\n",
    "\n",
    "# NEW! define operation which shall be performed in the combination technique\n",
    "from sparseSpACE.GridOperation import *\n",
    "operation = Integration(f=f, grid=grid, dim=dim, reference_solution=aop.scholes_call())\n",
    "combiObject = StandardCombi(a, b, operation=operation)\n",
    "minimum_level = 1\n",
    "maximum_level = 5\n",
    "combiObject.perform_operation(minimum_level, maximum_level, f)"
   ]
  },
  {
   "cell_type": "code",
   "execution_count": null,
   "metadata": {},
   "outputs": [],
   "source": [
    "# from scipy.stats import norm\n",
    "# ar = np.asarray([0.11270167, 0.11270167, 0.11270167])\n",
    "# #aop.payout_func(aop.S_t(ar))\n",
    "# noise = np.random.uniform(0, 0.5, size=(int(1e4), 3))\n",
    "# vec_noise = sparse_payout.eval_vectorized(noise)\n",
    "# aop = AsianOption(d=8)\n",
    "# aop.A[:-1, :-1]@norm.ppf(aop.t_v[:-1])\n"
   ]
  }
 ],
 "metadata": {
  "interpreter": {
   "hash": "861bdae1d92361f5dca4c96558138137482200a47974de5944b939d98a81f00d"
  },
  "kernelspec": {
   "display_name": "Python 3.8.10 ('venv': venv)",
   "language": "python",
   "name": "python3"
  },
  "language_info": {
   "codemirror_mode": {
    "name": "ipython",
    "version": 3
   },
   "file_extension": ".py",
   "mimetype": "text/x-python",
   "name": "python",
   "nbconvert_exporter": "python",
   "pygments_lexer": "ipython3",
   "version": "3.8.10"
  },
  "orig_nbformat": 4
 },
 "nbformat": 4,
 "nbformat_minor": 2
}
